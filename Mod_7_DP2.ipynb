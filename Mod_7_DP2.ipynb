{
 "cells": [
  {
   "cell_type": "markdown",
   "id": "complex-ideal",
   "metadata": {},
   "source": [
    "# Lab 7: Dynamic Programming"
   ]
  },
  {
   "cell_type": "markdown",
   "id": "dynamic-hearing",
   "metadata": {},
   "source": [
    "Lab associated with Module 7: Dynamic Programming"
   ]
  },
  {
   "cell_type": "markdown",
   "id": "reliable-thomson",
   "metadata": {},
   "source": [
    "***"
   ]
  },
  {
   "cell_type": "code",
   "execution_count": 1,
   "id": "unknown-effort",
   "metadata": {},
   "outputs": [
    {
     "name": "stderr",
     "output_type": "stream",
     "text": [
      "/tmp/ipykernel_22306/1945220536.py:2: DeprecationWarning: Importing display from IPython.core.display is deprecated since IPython 7.14, please import from IPython display\n",
      "  from IPython.core.display import display, HTML\n"
     ]
    },
    {
     "data": {
      "text/html": [
       "<style>.container { width:95% !important; }</style>"
      ],
      "text/plain": [
       "<IPython.core.display.HTML object>"
      ]
     },
     "metadata": {},
     "output_type": "display_data"
    }
   ],
   "source": [
    "# The following lines are used to increase the width of cells to utilize more space on the screen \n",
    "from IPython.core.display import display, HTML\n",
    "display(HTML(\"<style>.container { width:95% !important; }</style>\"))"
   ]
  },
  {
   "cell_type": "markdown",
   "id": "civilian-racing",
   "metadata": {},
   "source": [
    "***"
   ]
  },
  {
   "cell_type": "markdown",
   "id": "moving-violence",
   "metadata": {},
   "source": [
    "### Section 0: Imports"
   ]
  },
  {
   "cell_type": "code",
   "execution_count": 2,
   "id": "7a469c73",
   "metadata": {},
   "outputs": [],
   "source": [
    "import pprint as pp"
   ]
  },
  {
   "cell_type": "code",
   "execution_count": 3,
   "id": "familiar-letters",
   "metadata": {},
   "outputs": [],
   "source": [
    "import numpy as np"
   ]
  },
  {
   "cell_type": "code",
   "execution_count": 4,
   "id": "recovered-literacy",
   "metadata": {},
   "outputs": [],
   "source": [
    "import math"
   ]
  },
  {
   "cell_type": "code",
   "execution_count": 5,
   "id": "multiple-chair",
   "metadata": {},
   "outputs": [],
   "source": [
    "from IPython.display import Image\n",
    "from graphviz import Digraph"
   ]
  },
  {
   "cell_type": "markdown",
   "id": "hungarian-sentence",
   "metadata": {},
   "source": [
    "Details of Digraph package: https://h1ros.github.io/posts/introduction-to-graphviz-in-jupyter-notebook/"
   ]
  },
  {
   "cell_type": "markdown",
   "id": "anonymous-sphere",
   "metadata": {},
   "source": [
    "***"
   ]
  },
  {
   "cell_type": "markdown",
   "id": "ede7f680",
   "metadata": {},
   "source": [
    "### <font color='red'> Activity 1: You are running up a staircase with a total of n steps. You can hop either 1 step, 2 steps or 3 steps at at time. Write a DP program to determine how many possible ways you can run up the stairs? (Hint: Start with a recursive solution, and then later move to top-down approach of DP). </font>"
   ]
  },
  {
   "cell_type": "code",
   "execution_count": 6,
   "id": "f7d274a8",
   "metadata": {},
   "outputs": [
    {
     "name": "stdout",
     "output_type": "stream",
     "text": [
      "7\n",
      "13\n",
      "4\n"
     ]
    }
   ],
   "source": [
    "def nStepCount(n):\n",
    "    # We create an array with each step needed, since we are going from the top the stairs down. Add +1 to stop out of index\n",
    "    step = [0] * (n + 1)\n",
    "    # We know from the top step how many we need to take from last pos (1), 2nd pos (1) and third pos (2)\n",
    "    step[0] = 1\n",
    "    step[1] = 1\n",
    "    step[2] = 2\n",
    " \n",
    "    # We go through each step and add the last three solutions together giving us the answer\n",
    "    for i in range(3, n + 1):\n",
    "        step[i] = step[i - 1] + step[i - 2] + step[i - 3]\n",
    "    # return the final step\n",
    "    return step[n]\n",
    "print(nStepCount(4))\n",
    "print(nStepCount(5))\n",
    "print(nStepCount(3))"
   ]
  },
  {
   "cell_type": "markdown",
   "id": "fiscal-video",
   "metadata": {},
   "source": [
    "### <font color='red'> Activity 2: Write the code for finding the Longest Common Sub-sequence. Make sure you output the Matrix C and The longest sub-sequence as well. Test your code with various use-cases. </font>"
   ]
  },
  {
   "cell_type": "code",
   "execution_count": 7,
   "id": "developed-pharmacy",
   "metadata": {},
   "outputs": [
    {
     "name": "stdout",
     "output_type": "stream",
     "text": [
      "Length of matching LCS: 5\n",
      "LCS: ['e', 'l', 'p', 'p', 'a']\n",
      "Matrix: \n",
      "[[0, 0, 0, 0, 0, 0, 0],\n",
      " [0, 1, 1, 1, 1, 1, 1],\n",
      " [0, 1, 2, 2, 2, 2, 2],\n",
      " [0, 1, 2, 3, 3, 3, 3],\n",
      " [0, 1, 2, 3, 4, 4, 4],\n",
      " [0, 1, 2, 3, 4, 5, 5]]\n"
     ]
    }
   ],
   "source": [
    "def LCS(string1, string2):\n",
    "    # Create the matrix we use to store matching values\n",
    "    matrix = [[0 for i in range(len(string2)+1)] for i in range(len(string1)+1)]\n",
    "    # Iterate through the matrix\n",
    "    for i in range(1,len(string1)+1):\n",
    "        for j in range(1,len(string2)+1):\n",
    "            # When we have a match we take the diagonal value and increment by 1 since we have a new match\n",
    "            if string1[i-1] == string2[j-1]:\n",
    "                matrix[i][j] = matrix[i-1][j-1] + 1\n",
    "            # Otherwise we just keep the same diagonal values\n",
    "            else:\n",
    "                matrix[i][j] = max(matrix[i-1][j], matrix[i][j-1])\n",
    "\n",
    "\n",
    "    # Find the matching letters in the string:\n",
    "    # Create a way to save the values as LCS tracker\n",
    "    lcsTracker = []\n",
    "    # Since we are climbing through the table we need to have values to remove\n",
    "    i = len(string1)\n",
    "    j = len(string2)\n",
    "    # While we still have colmuns and rows we iterate through\n",
    "    while i > 0 and j > 0:\n",
    "        # If we have a match then we know that that is a matching val so we add it then iterate\n",
    "        if string1[i-1] == string2[j-1]:\n",
    "            lcsTracker.append(string1[i-1])\n",
    "            i -= 1\n",
    "            j -= 1\n",
    "        # If i-1 is less then we iterate along i for when it is higher\n",
    "        elif matrix[i-1][j] > matrix[i][j-1]:\n",
    "            i -= 1     \n",
    "        # If not we just move onto the next in j\n",
    "        else:\n",
    "            j -= 1\n",
    "    # Print our results\n",
    "    print(\"Length of matching LCS: {}\".format(matrix[len(string1)][len(string2)]))\n",
    "    print(\"LCS: {}\".format(lcsTracker))\n",
    "    print(\"Matrix: \")\n",
    "    pp.pprint(matrix)\n",
    "LCS(\"apple\", \"apples\")\n"
   ]
  },
  {
   "cell_type": "code",
   "execution_count": 8,
   "id": "7e4a1762",
   "metadata": {},
   "outputs": [
    {
     "name": "stdout",
     "output_type": "stream",
     "text": [
      "Length of matching LCS: 5\n",
      "LCS: ['r', 'e', 'c', 'a', 'r']\n",
      "Matrix: \n",
      "[[0, 0, 0, 0, 0, 0, 0, 0, 0, 0],\n",
      " [0, 1, 1, 1, 1, 1, 1, 1, 1, 1],\n",
      " [0, 1, 2, 2, 2, 2, 2, 2, 2, 2],\n",
      " [0, 1, 2, 3, 3, 3, 3, 3, 3, 3],\n",
      " [0, 1, 2, 3, 4, 4, 4, 4, 4, 4],\n",
      " [0, 1, 2, 3, 4, 4, 4, 4, 5, 5],\n",
      " [0, 1, 2, 3, 4, 4, 4, 5, 5, 5],\n",
      " [0, 1, 2, 3, 4, 4, 5, 5, 5, 5]]\n"
     ]
    }
   ],
   "source": [
    "LCS(\"racecar\", \"racetrack\")"
   ]
  },
  {
   "cell_type": "code",
   "execution_count": 9,
   "id": "98767176",
   "metadata": {},
   "outputs": [
    {
     "name": "stdout",
     "output_type": "stream",
     "text": [
      "Length of matching LCS: 16\n",
      "LCS: ['T', 'T', 'C', 'G', 'A', 'T', 'T', 'C', 'G', 'A', 'A', 'T', 'C', 'C', 'C', 'G']\n",
      "Matrix: \n",
      "[[0, 0, 0, 0, 0, 0, 0, 0, 0, 0, 0, 0, 0, 0, 0, 0, 0, 0, 0, 0, 0, 0, 0, 0],\n",
      " [0, 0, 1, 1, 1, 1, 1, 1, 1, 1, 1, 1, 1, 1, 1, 1, 1, 1, 1, 1, 1, 1, 1, 1],\n",
      " [0, 1, 1, 1, 1, 2, 2, 2, 2, 2, 2, 2, 2, 2, 2, 2, 2, 2, 2, 2, 2, 2, 2, 2],\n",
      " [0, 1, 1, 2, 2, 2, 3, 3, 3, 3, 3, 3, 3, 3, 3, 3, 3, 3, 3, 3, 3, 3, 3, 3],\n",
      " [0, 1, 1, 2, 2, 2, 3, 4, 4, 4, 4, 4, 4, 4, 4, 4, 4, 4, 4, 4, 4, 4, 4, 4],\n",
      " [0, 1, 1, 2, 2, 2, 3, 4, 4, 4, 5, 5, 5, 5, 5, 5, 5, 5, 5, 5, 5, 5, 5, 5],\n",
      " [0, 1, 1, 2, 2, 2, 3, 4, 5, 5, 5, 5, 5, 5, 5, 5, 6, 6, 6, 6, 6, 6, 6, 6],\n",
      " [0, 1, 2, 2, 3, 3, 3, 4, 5, 6, 6, 6, 6, 6, 6, 6, 6, 6, 7, 7, 7, 7, 7, 7],\n",
      " [0, 1, 2, 2, 3, 3, 3, 4, 5, 6, 6, 7, 7, 7, 7, 7, 7, 7, 7, 7, 7, 7, 7, 7],\n",
      " [0, 1, 2, 2, 3, 4, 4, 4, 5, 6, 6, 7, 7, 8, 8, 8, 8, 8, 8, 8, 8, 8, 8, 8],\n",
      " [0, 1, 2, 2, 3, 4, 4, 4, 5, 6, 6, 7, 7, 8, 8, 9, 9, 9, 9, 9, 9, 9, 9, 9],\n",
      " [0, 1, 2, 2, 3, 4, 4, 4, 5, 6, 6, 7, 7, 8, 8, 9, 9, 9, 9, 10, 10, 10, 10, 10],\n",
      " [0, 1, 2, 3, 3, 4, 5, 5, 5, 6, 7, 7, 7, 8, 9, 9, 9, 9, 9, 10, 11, 11, 11, 11],\n",
      " [0,\n",
      "  1,\n",
      "  2,\n",
      "  3,\n",
      "  3,\n",
      "  4,\n",
      "  5,\n",
      "  5,\n",
      "  6,\n",
      "  6,\n",
      "  7,\n",
      "  7,\n",
      "  7,\n",
      "  8,\n",
      "  9,\n",
      "  9,\n",
      "  10,\n",
      "  10,\n",
      "  10,\n",
      "  10,\n",
      "  11,\n",
      "  12,\n",
      "  12,\n",
      "  12],\n",
      " [0,\n",
      "  1,\n",
      "  2,\n",
      "  3,\n",
      "  4,\n",
      "  4,\n",
      "  5,\n",
      "  5,\n",
      "  6,\n",
      "  7,\n",
      "  7,\n",
      "  8,\n",
      "  8,\n",
      "  8,\n",
      "  9,\n",
      "  9,\n",
      "  10,\n",
      "  10,\n",
      "  11,\n",
      "  11,\n",
      "  11,\n",
      "  12,\n",
      "  12,\n",
      "  12],\n",
      " [0,\n",
      "  1,\n",
      "  2,\n",
      "  3,\n",
      "  4,\n",
      "  4,\n",
      "  5,\n",
      "  6,\n",
      "  6,\n",
      "  7,\n",
      "  8,\n",
      "  8,\n",
      "  8,\n",
      "  8,\n",
      "  9,\n",
      "  9,\n",
      "  10,\n",
      "  10,\n",
      "  11,\n",
      "  11,\n",
      "  12,\n",
      "  12,\n",
      "  12,\n",
      "  12],\n",
      " [0,\n",
      "  1,\n",
      "  2,\n",
      "  3,\n",
      "  4,\n",
      "  4,\n",
      "  5,\n",
      "  6,\n",
      "  6,\n",
      "  7,\n",
      "  8,\n",
      "  8,\n",
      "  8,\n",
      "  8,\n",
      "  9,\n",
      "  9,\n",
      "  10,\n",
      "  10,\n",
      "  11,\n",
      "  11,\n",
      "  12,\n",
      "  12,\n",
      "  12,\n",
      "  12],\n",
      " [0,\n",
      "  1,\n",
      "  2,\n",
      "  3,\n",
      "  4,\n",
      "  4,\n",
      "  5,\n",
      "  6,\n",
      "  7,\n",
      "  7,\n",
      "  8,\n",
      "  8,\n",
      "  8,\n",
      "  8,\n",
      "  9,\n",
      "  9,\n",
      "  10,\n",
      "  11,\n",
      "  11,\n",
      "  11,\n",
      "  12,\n",
      "  13,\n",
      "  13,\n",
      "  13],\n",
      " [0,\n",
      "  1,\n",
      "  2,\n",
      "  3,\n",
      "  4,\n",
      "  4,\n",
      "  5,\n",
      "  6,\n",
      "  7,\n",
      "  8,\n",
      "  8,\n",
      "  9,\n",
      "  9,\n",
      "  9,\n",
      "  9,\n",
      "  9,\n",
      "  10,\n",
      "  11,\n",
      "  12,\n",
      "  12,\n",
      "  12,\n",
      "  13,\n",
      "  13,\n",
      "  13],\n",
      " [0,\n",
      "  1,\n",
      "  2,\n",
      "  3,\n",
      "  4,\n",
      "  5,\n",
      "  5,\n",
      "  6,\n",
      "  7,\n",
      "  8,\n",
      "  8,\n",
      "  9,\n",
      "  9,\n",
      "  10,\n",
      "  10,\n",
      "  10,\n",
      "  10,\n",
      "  11,\n",
      "  12,\n",
      "  13,\n",
      "  13,\n",
      "  13,\n",
      "  13,\n",
      "  14],\n",
      " [0,\n",
      "  1,\n",
      "  2,\n",
      "  3,\n",
      "  4,\n",
      "  5,\n",
      "  6,\n",
      "  6,\n",
      "  7,\n",
      "  8,\n",
      "  9,\n",
      "  9,\n",
      "  9,\n",
      "  10,\n",
      "  11,\n",
      "  11,\n",
      "  11,\n",
      "  11,\n",
      "  12,\n",
      "  13,\n",
      "  14,\n",
      "  14,\n",
      "  14,\n",
      "  14],\n",
      " [0,\n",
      "  1,\n",
      "  2,\n",
      "  3,\n",
      "  4,\n",
      "  5,\n",
      "  6,\n",
      "  6,\n",
      "  7,\n",
      "  8,\n",
      "  9,\n",
      "  9,\n",
      "  9,\n",
      "  10,\n",
      "  11,\n",
      "  11,\n",
      "  12,\n",
      "  12,\n",
      "  12,\n",
      "  13,\n",
      "  14,\n",
      "  15,\n",
      "  15,\n",
      "  15],\n",
      " [0,\n",
      "  1,\n",
      "  2,\n",
      "  3,\n",
      "  4,\n",
      "  5,\n",
      "  6,\n",
      "  6,\n",
      "  7,\n",
      "  8,\n",
      "  9,\n",
      "  9,\n",
      "  9,\n",
      "  10,\n",
      "  11,\n",
      "  11,\n",
      "  12,\n",
      "  13,\n",
      "  13,\n",
      "  13,\n",
      "  14,\n",
      "  15,\n",
      "  16,\n",
      "  16]]\n"
     ]
    }
   ],
   "source": [
    "LCS(\"AGCCCTAAGGGCTACCTAGCTT\", \"GACAGCCTACAAGCGTTAGCTTG\")"
   ]
  },
  {
   "cell_type": "markdown",
   "id": "subject-annual",
   "metadata": {},
   "source": [
    "***"
   ]
  },
  {
   "cell_type": "markdown",
   "id": "enormous-bishop",
   "metadata": {},
   "source": [
    "### Section 2: Unbounded Knapsack Problem"
   ]
  },
  {
   "cell_type": "markdown",
   "id": "grand-decision",
   "metadata": {},
   "source": [
    "Let us build a solution to unbounded Knapsack problem."
   ]
  },
  {
   "cell_type": "code",
   "execution_count": 10,
   "id": "connected-sustainability",
   "metadata": {},
   "outputs": [],
   "source": [
    "def unboundedKnapsack(W, n, wt, vals, names):\n",
    " \n",
    "    K = [0 for i in range(W + 1)]\n",
    "    ITEMS = [[] for i in range(W + 1)]\n",
    " \n",
    "    for x in range(1, W + 1):\n",
    "        K[x] = 0\n",
    "        for i in range(1, n):\n",
    "            \n",
    "            prev_k = K[x]\n",
    "            \n",
    "            if (wt[i] <= x):\n",
    "                K[x] = max(K[x], K[x - wt[i]] + vals[i])\n",
    "                \n",
    "            if K[x] != prev_k:\n",
    "                ITEMS[x] = ITEMS[x - wt[i]] + names[i]\n",
    "                \n",
    " \n",
    "    return K[W], ITEMS[W]"
   ]
  },
  {
   "cell_type": "code",
   "execution_count": 11,
   "id": "tropical-catalyst",
   "metadata": {},
   "outputs": [
    {
     "name": "stdout",
     "output_type": "stream",
     "text": [
      "We have 3 items\n"
     ]
    }
   ],
   "source": [
    "W = 4\n",
    "wt = [1, 2, 3]\n",
    "vals = [1, 4, 6]\n",
    "names = [[\"Turtle\"], [\"Globe\"], [\"WaterMelon\"]]\n",
    "\n",
    "n = len(vals)\n",
    "\n",
    "print('We have {} items'.format(n))                "
   ]
  },
  {
   "cell_type": "code",
   "execution_count": 12,
   "id": "noble-wayne",
   "metadata": {},
   "outputs": [],
   "source": [
    "K, ITEMS = unboundedKnapsack(W, n, wt, vals, names)"
   ]
  },
  {
   "cell_type": "code",
   "execution_count": 13,
   "id": "f5dbc3ed",
   "metadata": {},
   "outputs": [
    {
     "data": {
      "text/plain": [
       "8"
      ]
     },
     "execution_count": 13,
     "metadata": {},
     "output_type": "execute_result"
    }
   ],
   "source": [
    "K"
   ]
  },
  {
   "cell_type": "code",
   "execution_count": 14,
   "id": "english-property",
   "metadata": {},
   "outputs": [
    {
     "data": {
      "text/plain": [
       "['Globe', 'Globe']"
      ]
     },
     "execution_count": 14,
     "metadata": {},
     "output_type": "execute_result"
    }
   ],
   "source": [
    "ITEMS"
   ]
  },
  {
   "cell_type": "markdown",
   "id": "divine-glossary",
   "metadata": {},
   "source": [
    "***"
   ]
  },
  {
   "cell_type": "markdown",
   "id": "eb2033b6",
   "metadata": {},
   "source": [
    "### <font color='red'> Activity 3: In the earlier activity, you analysed the code for unbounded knapsack. Based on the algorithm discussed in this section, implement a solution to do 0/1 Knapsack. Make sure you test your algorithms for various test-cases. </font>"
   ]
  },
  {
   "cell_type": "code",
   "execution_count": 16,
   "id": "d4462361",
   "metadata": {},
   "outputs": [],
   "source": [
    "def O1knapSack(W, wt, val, n,name):\n",
    "    K = [[0 for x in range(W + 1)] for j in range(n + 1)]\n",
    "    bag = []\n",
    "    for x in range(n + 1):\n",
    "        for j in range(W + 1):\n",
    "            K[x][j] = K[x - 1][j]\n",
    "            if wt[x - 1] <= j:\n",
    "                K[x][j] = max(val[x - 1] + K[x - 1][j - wt[x - 1]],K[x - 1][j])\n",
    "\n",
    " \n",
    "    # This finds what we get from the napsack\n",
    "    index = K[n][W]\n",
    "    w = W\n",
    "    print(range(n,0,-1))\n",
    "    print(len(range(n,0,-1)))\n",
    "\n",
    "    # Starts at the end of the index\n",
    "    for i in range(n, 0, -1):\n",
    "        # End when index is empty\n",
    "        if index <= 0:\n",
    "            break\n",
    "        # If index is not equal to the previous indexed then we move down and add the item to the bag on the way\n",
    "        if index != K[i - 1][w]:\n",
    "            # Add the prevoious indexed item to our bag\n",
    "            bag.append(name[i-1])\n",
    "            # We move the index down\n",
    "            index = index - val[i - 1]\n",
    "            # We move the w down\n",
    "            w = w - wt[i - 1]\n",
    "    # Return our K value wich is how much value we have and what we took in out bag\n",
    "    return K[n][W], bag"
   ]
  },
  {
   "cell_type": "markdown",
   "id": "asian-garbage",
   "metadata": {},
   "source": [
    "Class Room Test-case"
   ]
  },
  {
   "cell_type": "code",
   "execution_count": 17,
   "id": "49c8ea22",
   "metadata": {},
   "outputs": [
    {
     "name": "stdout",
     "output_type": "stream",
     "text": [
      "range(5, 0, -1)\n",
      "5\n"
     ]
    },
    {
     "data": {
      "text/plain": [
       "(10, [['Globe'], ['Parrot'], ['Bat']])"
      ]
     },
     "execution_count": 17,
     "metadata": {},
     "output_type": "execute_result"
    }
   ],
   "source": [
    "cap = 7\n",
    "V = [5,2,3,2,4]\n",
    "weight = [4,3,2,1,3]\n",
    "name = [['Bat'],['fish'],['Parrot'],['Globe'],['Ring']]\n",
    "n = len(V)\n",
    "O1knapSack(cap, weight, V, n,name)"
   ]
  },
  {
   "cell_type": "code",
   "execution_count": 18,
   "id": "earned-sierra",
   "metadata": {},
   "outputs": [
    {
     "name": "stdout",
     "output_type": "stream",
     "text": [
      "We have 5 items\n"
     ]
    }
   ],
   "source": [
    "W = 10\n",
    "V = [20, 8, 14, 13, 35]\n",
    "weight = [6, 2, 4, 3, 11]\n",
    "names = [[\"Turtle\"], [\"Globe\"], [\"WaterMelon\"],[\"Ring\"],[\"Chicken\"]]\n",
    "n = len(V)\n",
    "\n",
    "print('We have {} items'.format(n))   "
   ]
  },
  {
   "cell_type": "code",
   "execution_count": 19,
   "id": "b8958dc9",
   "metadata": {},
   "outputs": [
    {
     "name": "stdout",
     "output_type": "stream",
     "text": [
      "range(5, 0, -1)\n",
      "5\n"
     ]
    },
    {
     "data": {
      "text/plain": [
       "(35, [['Ring'], ['WaterMelon'], ['Globe']])"
      ]
     },
     "execution_count": 19,
     "metadata": {},
     "output_type": "execute_result"
    }
   ],
   "source": [
    "O1knapSack(W, weight, V, n,names)"
   ]
  },
  {
   "cell_type": "markdown",
   "id": "emerging-green",
   "metadata": {},
   "source": [
    "***"
   ]
  }
 ],
 "metadata": {
  "kernelspec": {
   "display_name": "Python 3 (ipykernel)",
   "language": "python",
   "name": "python3"
  },
  "language_info": {
   "codemirror_mode": {
    "name": "ipython",
    "version": 3
   },
   "file_extension": ".py",
   "mimetype": "text/x-python",
   "name": "python",
   "nbconvert_exporter": "python",
   "pygments_lexer": "ipython3",
   "version": "3.10.12"
  }
 },
 "nbformat": 4,
 "nbformat_minor": 5
}
