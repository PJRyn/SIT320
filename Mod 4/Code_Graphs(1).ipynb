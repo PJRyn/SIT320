{
 "cells": [
  {
   "cell_type": "markdown",
   "id": "imposed-playlist",
   "metadata": {},
   "source": [
    "# Lab 6: Graphs II"
   ]
  },
  {
   "cell_type": "markdown",
   "id": "d97cce87",
   "metadata": {},
   "source": [
    "Lab associated with Module 6: Graphs II"
   ]
  },
  {
   "cell_type": "markdown",
   "id": "5c7f2e9d",
   "metadata": {},
   "source": [
    "***"
   ]
  },
  {
   "cell_type": "code",
   "execution_count": 102,
   "id": "5b495ad0",
   "metadata": {},
   "outputs": [
    {
     "name": "stderr",
     "output_type": "stream",
     "text": [
      "/tmp/ipykernel_37926/1945220536.py:2: DeprecationWarning: Importing display from IPython.core.display is deprecated since IPython 7.14, please import from IPython display\n",
      "  from IPython.core.display import display, HTML\n"
     ]
    },
    {
     "data": {
      "text/html": [
       "<style>.container { width:95% !important; }</style>"
      ],
      "text/plain": [
       "<IPython.core.display.HTML object>"
      ]
     },
     "metadata": {},
     "output_type": "display_data"
    }
   ],
   "source": [
    "# The following lines are used to increase the width of cells to utilize more space on the screen \n",
    "from IPython.core.display import display, HTML\n",
    "display(HTML(\"<style>.container { width:95% !important; }</style>\"))"
   ]
  },
  {
   "cell_type": "markdown",
   "id": "3a2b855c",
   "metadata": {},
   "source": [
    "***"
   ]
  },
  {
   "cell_type": "markdown",
   "id": "9d0921a0",
   "metadata": {},
   "source": [
    "### Section 0: Imports"
   ]
  },
  {
   "cell_type": "code",
   "execution_count": 103,
   "id": "477622d5",
   "metadata": {},
   "outputs": [],
   "source": [
    "import numpy as np"
   ]
  },
  {
   "cell_type": "code",
   "execution_count": 104,
   "id": "50fb5ed5",
   "metadata": {},
   "outputs": [],
   "source": [
    "import math"
   ]
  },
  {
   "cell_type": "code",
   "execution_count": 105,
   "id": "965de108",
   "metadata": {},
   "outputs": [],
   "source": [
    "from IPython.display import Image\n",
    "from graphviz import Digraph"
   ]
  },
  {
   "cell_type": "markdown",
   "id": "214d69eb",
   "metadata": {},
   "source": [
    "Details of Digraph package: https://h1ros.github.io/posts/introduction-to-graphviz-in-jupyter-notebook/"
   ]
  },
  {
   "cell_type": "markdown",
   "id": "7f9321f8",
   "metadata": {},
   "source": [
    "***"
   ]
  },
  {
   "cell_type": "markdown",
   "id": "317d9bca",
   "metadata": {},
   "source": [
    "### Section 1: Graph Preliminaries"
   ]
  },
  {
   "cell_type": "markdown",
   "id": "cc820c0e",
   "metadata": {},
   "source": [
    "Let us start by implementing our Node and Graph data structure to incorporate weights in the graph"
   ]
  },
  {
   "cell_type": "code",
   "execution_count": 106,
   "id": "d8e6550f",
   "metadata": {},
   "outputs": [],
   "source": [
    "class Node:\n",
    "    \n",
    "    def __init__(self, v):\n",
    "\n",
    "        self.value = v\n",
    "        self.inNeighbors = []\n",
    "        self.outNeighbors = []\n",
    "        \n",
    "        #Adrian's suggestion:\n",
    "        self.parent = None\n",
    "        \n",
    "        self.status = \"unvisited\"\n",
    "        self.estD = np.inf\n",
    "        \n",
    "    def hasOutNeighbor(self, v):\n",
    "        \n",
    "        if v in self.outNeighbors:\n",
    "            return True\n",
    "        \n",
    "        return False\n",
    "        \n",
    "    def hasInNeighbor(self, v):\n",
    "        \n",
    "        if v in self.inNeighbors:\n",
    "            return True\n",
    "        \n",
    "        return False\n",
    "    \n",
    "    def hasNeighbor(self, v):\n",
    "        \n",
    "        if v in self.inNeighbors or v in self.outNeighbors:\n",
    "            return True\n",
    "        \n",
    "        return False\n",
    "    \n",
    "    def getOutNeighbors(self):\n",
    "        \n",
    "        return self.outNeighbors\n",
    "    \n",
    "    def getInNeighbors(self):\n",
    "        \n",
    "        return self.inNeighbors\n",
    "    \n",
    "    def getOutNeighborsWithWeights(self):\n",
    "        \n",
    "        return self.outNeighbors\n",
    "    \n",
    "    def getInNeighborsWithWeights(self):\n",
    "        \n",
    "        return self.inNeighbors\n",
    "    \n",
    "    # ------------------------------------------------\n",
    "    # Let us modify following two functions to incorporate weights\n",
    "    # ------------------------------------------------\n",
    "    \n",
    "    def addOutNeighbor(self,v,wt):\n",
    "        \n",
    "        self.outNeighbors.append((v,wt))\n",
    "    \n",
    "    def addInNeighbor(self,v,wt):\n",
    "        \n",
    "        self.inNeighbors.append((v,wt))\n",
    "        \n",
    "        \n",
    "    def __str__(self):\n",
    "        \n",
    "        return str(self.value) "
   ]
  },
  {
   "cell_type": "code",
   "execution_count": 107,
   "id": "30ab4c32",
   "metadata": {},
   "outputs": [],
   "source": [
    "class Graph:\n",
    "    \n",
    "    def __init__(self):\n",
    "        \n",
    "        self.vertices = []\n",
    "\n",
    "    def addVertex(self,n):\n",
    "        \n",
    "        self.vertices.append(n)\n",
    "        \n",
    "    # ------------------------------------------------\n",
    "    # Let us modify following two functions to incorporate weights\n",
    "    # ------------------------------------------------\n",
    "        \n",
    "    def addDiEdge(self, u, v, wt = 1):\n",
    "        \n",
    "        u.addOutNeighbor(v, wt = wt)\n",
    "        v.addInNeighbor(u, wt = wt)\n",
    "        \n",
    "    # add edges in both directions between u and v\n",
    "    def addBiEdge(self, u, v, wt = 1):\n",
    "        \n",
    "        self.addDiEdge(u, v, wt = wt)\n",
    "        self.addDiEdge(v, u, wt = wt)\n",
    "        \n",
    "            \n",
    "    # get a list of all the directed edges\n",
    "    # directed edges are a list of two vertices\n",
    "    def getDirEdges(self):\n",
    "        \n",
    "        ret = []\n",
    "        for v in self.vertices:\n",
    "            ret += [ [v, u] for u in v.outNeighbors ]\n",
    "        return ret\n",
    "    \n",
    "    # reverse the edge between u and v.  Multiple edges are not supported.\n",
    "    def reverseEdge(self,u,v):\n",
    "        \n",
    "        if u.hasOutNeighbor(v) and v.hasInNeighbor(u):\n",
    "            \n",
    "            if v.hasOutNeighbor(u) and u.hasInNeighbor(v): \n",
    "                return\n",
    "        \n",
    "            self.addDiEdge(v, u)\n",
    "            u.outNeighbors.remove(v)\n",
    "            v.inNeighbors.remove(u)        \n",
    "                \n",
    "    def __str__(self):\n",
    "        \n",
    "        ret = \"Graph with:\\n\"\n",
    "        ret += \"\\t Vertices:\\n\\t\"\n",
    "        for v in self.vertices:\n",
    "            ret += str(v) + \",\"\n",
    "        ret += \"\\n\"\n",
    "        ret += \"\\t Edges:\\n\\t\"\n",
    "        for a,b in self.getDirEdges():\n",
    "            ret += \"(\" + str(a) + \",\" + str(b) + \") \"\n",
    "        ret += \"\\n\"\n",
    "        return ret"
   ]
  },
  {
   "cell_type": "markdown",
   "id": "7afa81de",
   "metadata": {},
   "source": [
    "Now that we have incorporated the weights, let us devise a plan to generate the graph"
   ]
  },
  {
   "cell_type": "code",
   "execution_count": 108,
   "id": "d3a8a344",
   "metadata": {},
   "outputs": [
    {
     "data": {
      "image/svg+xml": [
       "<?xml version=\"1.0\" encoding=\"UTF-8\" standalone=\"no\"?>\n",
       "<!DOCTYPE svg PUBLIC \"-//W3C//DTD SVG 1.1//EN\"\n",
       " \"http://www.w3.org/Graphics/SVG/1.1/DTD/svg11.dtd\">\n",
       "<!-- Generated by graphviz version 2.43.0 (0)\n",
       " -->\n",
       "<!-- Title: %3 Pages: 1 -->\n",
       "<svg width=\"117pt\" height=\"404pt\"\n",
       " viewBox=\"0.00 0.00 117.00 404.00\" xmlns=\"http://www.w3.org/2000/svg\" xmlns:xlink=\"http://www.w3.org/1999/xlink\">\n",
       "<g id=\"graph0\" class=\"graph\" transform=\"scale(1 1) rotate(0) translate(4 400)\">\n",
       "<title>%3</title>\n",
       "<polygon fill=\"white\" stroke=\"transparent\" points=\"-4,4 -4,-400 113,-400 113,4 -4,4\"/>\n",
       "<!-- S -->\n",
       "<g id=\"node1\" class=\"node\">\n",
       "<title>S</title>\n",
       "<ellipse fill=\"none\" stroke=\"black\" cx=\"54\" cy=\"-378\" rx=\"27\" ry=\"18\"/>\n",
       "<text text-anchor=\"middle\" x=\"54\" y=\"-374.3\" font-family=\"Times,serif\" font-size=\"14.00\">S</text>\n",
       "</g>\n",
       "<!-- E -->\n",
       "<g id=\"node2\" class=\"node\">\n",
       "<title>E</title>\n",
       "<ellipse fill=\"none\" stroke=\"black\" cx=\"27\" cy=\"-306\" rx=\"27\" ry=\"18\"/>\n",
       "<text text-anchor=\"middle\" x=\"27\" y=\"-302.3\" font-family=\"Times,serif\" font-size=\"14.00\">E</text>\n",
       "</g>\n",
       "<!-- S&#45;&gt;E -->\n",
       "<g id=\"edge1\" class=\"edge\">\n",
       "<title>S&#45;&gt;E</title>\n",
       "<path fill=\"none\" stroke=\"black\" d=\"M47.6,-360.41C44.49,-352.34 40.67,-342.43 37.17,-333.35\"/>\n",
       "<polygon fill=\"black\" stroke=\"black\" points=\"40.4,-332.03 33.54,-323.96 33.87,-334.55 40.4,-332.03\"/>\n",
       "</g>\n",
       "<!-- A -->\n",
       "<g id=\"node3\" class=\"node\">\n",
       "<title>A</title>\n",
       "<ellipse fill=\"none\" stroke=\"black\" cx=\"82\" cy=\"-162\" rx=\"27\" ry=\"18\"/>\n",
       "<text text-anchor=\"middle\" x=\"82\" y=\"-158.3\" font-family=\"Times,serif\" font-size=\"14.00\">A</text>\n",
       "</g>\n",
       "<!-- S&#45;&gt;A -->\n",
       "<g id=\"edge2\" class=\"edge\">\n",
       "<title>S&#45;&gt;A</title>\n",
       "<path fill=\"none\" stroke=\"black\" d=\"M57.14,-359.85C58.98,-349.49 61.27,-336.01 63,-324 69.73,-277.2 75.81,-222.48 79.19,-190.4\"/>\n",
       "<polygon fill=\"black\" stroke=\"black\" points=\"82.68,-190.74 80.24,-180.43 75.72,-190.01 82.68,-190.74\"/>\n",
       "</g>\n",
       "<!-- D -->\n",
       "<g id=\"node4\" class=\"node\">\n",
       "<title>D</title>\n",
       "<ellipse fill=\"none\" stroke=\"black\" cx=\"27\" cy=\"-234\" rx=\"27\" ry=\"18\"/>\n",
       "<text text-anchor=\"middle\" x=\"27\" y=\"-230.3\" font-family=\"Times,serif\" font-size=\"14.00\">D</text>\n",
       "</g>\n",
       "<!-- E&#45;&gt;D -->\n",
       "<g id=\"edge3\" class=\"edge\">\n",
       "<title>E&#45;&gt;D</title>\n",
       "<path fill=\"none\" stroke=\"black\" d=\"M27,-287.7C27,-279.98 27,-270.71 27,-262.11\"/>\n",
       "<polygon fill=\"black\" stroke=\"black\" points=\"30.5,-262.1 27,-252.1 23.5,-262.1 30.5,-262.1\"/>\n",
       "</g>\n",
       "<!-- C -->\n",
       "<g id=\"node5\" class=\"node\">\n",
       "<title>C</title>\n",
       "<ellipse fill=\"none\" stroke=\"black\" cx=\"27\" cy=\"-90\" rx=\"27\" ry=\"18\"/>\n",
       "<text text-anchor=\"middle\" x=\"27\" y=\"-86.3\" font-family=\"Times,serif\" font-size=\"14.00\">C</text>\n",
       "</g>\n",
       "<!-- A&#45;&gt;C -->\n",
       "<g id=\"edge5\" class=\"edge\">\n",
       "<title>A&#45;&gt;C</title>\n",
       "<path fill=\"none\" stroke=\"black\" d=\"M70.07,-145.81C62.79,-136.55 53.34,-124.52 45.15,-114.09\"/>\n",
       "<polygon fill=\"black\" stroke=\"black\" points=\"47.84,-111.86 38.91,-106.16 42.34,-116.18 47.84,-111.86\"/>\n",
       "</g>\n",
       "<!-- D&#45;&gt;A -->\n",
       "<g id=\"edge4\" class=\"edge\">\n",
       "<title>D&#45;&gt;A</title>\n",
       "<path fill=\"none\" stroke=\"black\" d=\"M38.93,-217.81C46.21,-208.55 55.66,-196.52 63.85,-186.09\"/>\n",
       "<polygon fill=\"black\" stroke=\"black\" points=\"66.66,-188.18 70.09,-178.16 61.16,-183.86 66.66,-188.18\"/>\n",
       "</g>\n",
       "<!-- D&#45;&gt;C -->\n",
       "<g id=\"edge7\" class=\"edge\">\n",
       "<title>D&#45;&gt;C</title>\n",
       "<path fill=\"none\" stroke=\"black\" d=\"M27,-215.87C27,-191.67 27,-147.21 27,-118.39\"/>\n",
       "<polygon fill=\"black\" stroke=\"black\" points=\"30.5,-118.19 27,-108.19 23.5,-118.19 30.5,-118.19\"/>\n",
       "</g>\n",
       "<!-- B -->\n",
       "<g id=\"node6\" class=\"node\">\n",
       "<title>B</title>\n",
       "<ellipse fill=\"none\" stroke=\"black\" cx=\"54\" cy=\"-18\" rx=\"27\" ry=\"18\"/>\n",
       "<text text-anchor=\"middle\" x=\"54\" y=\"-14.3\" font-family=\"Times,serif\" font-size=\"14.00\">B</text>\n",
       "</g>\n",
       "<!-- C&#45;&gt;B -->\n",
       "<g id=\"edge8\" class=\"edge\">\n",
       "<title>C&#45;&gt;B</title>\n",
       "<path fill=\"none\" stroke=\"black\" d=\"M33.4,-72.41C36.51,-64.34 40.33,-54.43 43.83,-45.35\"/>\n",
       "<polygon fill=\"black\" stroke=\"black\" points=\"47.13,-46.55 47.46,-35.96 40.6,-44.03 47.13,-46.55\"/>\n",
       "</g>\n",
       "<!-- B&#45;&gt;A -->\n",
       "<g id=\"edge6\" class=\"edge\">\n",
       "<title>B&#45;&gt;A</title>\n",
       "<path fill=\"none\" stroke=\"black\" d=\"M57.39,-36.19C62.19,-60.53 71.01,-105.28 76.69,-134.06\"/>\n",
       "<polygon fill=\"black\" stroke=\"black\" points=\"73.25,-134.74 78.62,-143.87 80.12,-133.38 73.25,-134.74\"/>\n",
       "</g>\n",
       "</g>\n",
       "</svg>\n"
      ],
      "text/plain": [
       "<graphviz.graphs.Digraph at 0x713968103b50>"
      ]
     },
     "execution_count": 108,
     "metadata": {},
     "output_type": "execute_result"
    }
   ],
   "source": [
    "dot = Digraph()\n",
    "\n",
    "dot.edge('S', 'E')\n",
    "dot.edge('S', 'A')\n",
    "dot.edge('E', 'D')\n",
    "dot.edge('D', 'A')\n",
    "dot.edge('A', 'C')\n",
    "dot.edge('B', 'A')\n",
    "dot.edge('D', 'C')\n",
    "dot.edge('C', 'B')\n",
    "\n",
    "#dot.view()\n",
    "dot"
   ]
  },
  {
   "cell_type": "code",
   "execution_count": 109,
   "id": "90237e9f",
   "metadata": {},
   "outputs": [],
   "source": [
    "G = Graph()\n",
    "#for i in ['0', '1', '2', '3', '4', '5']:\n",
    "for i in ['S', 'E', 'A', 'D', 'B', 'C']:\n",
    "    G.addVertex( Node(i) )"
   ]
  },
  {
   "cell_type": "code",
   "execution_count": 110,
   "id": "e2160adc",
   "metadata": {},
   "outputs": [],
   "source": [
    "V = G.vertices\n",
    "\n",
    "#dot.edge('S', 'E')\n",
    "G.addDiEdge( V[0], V[1], 8)\n",
    "\n",
    "#dot.edge('S', 'A')\n",
    "G.addDiEdge( V[0], V[2] , 10)\n",
    "\n",
    "#dot.edge('E', 'D')\n",
    "G.addDiEdge( V[1], V[3], 1)\n",
    "\n",
    "#dot.edge('D', 'A')\n",
    "G.addDiEdge( V[3], V[2], -4)\n",
    "\n",
    "#dot.edge('A', 'C')\n",
    "G.addDiEdge( V[2], V[5], 2)\n",
    "\n",
    "#dot.edge('B', 'A')\n",
    "G.addDiEdge( V[4], V[2], 1 )\n",
    "\n",
    "#dot.edge('D', 'C')\n",
    "G.addDiEdge( V[3], V[5], -1)\n",
    "\n",
    "#dot.edge('C', 'B')\n",
    "G.addDiEdge( V[5], V[4], -2 )"
   ]
  },
  {
   "cell_type": "markdown",
   "id": "8fcbaefb",
   "metadata": {},
   "source": [
    "Second Example"
   ]
  },
  {
   "cell_type": "code",
   "execution_count": 111,
   "id": "dd4d197d",
   "metadata": {},
   "outputs": [],
   "source": [
    "Graph = Graph()\n",
    "#for i in ['0', '1', '2', '3', '4', '5']:\n",
    "for i in ['S', 'A', 'B']:\n",
    "    Graph.addVertex( Node(i) )\n",
    "    \n",
    "V = Graph.vertices\n",
    "\n",
    "Graph.addDiEdge( V[0], V[1], 3)\n",
    "\n",
    "Graph.addDiEdge( V[0], V[2] , 4)\n",
    "\n",
    "Graph.addDiEdge( V[2], V[1], -2)"
   ]
  },
  {
   "cell_type": "code",
   "execution_count": 112,
   "id": "fb865755",
   "metadata": {},
   "outputs": [
    {
     "name": "stdout",
     "output_type": "stream",
     "text": [
      "Graph with:\n",
      "\t Vertices:\n",
      "\tS,A,B,\n",
      "\t Edges:\n",
      "\t(S,(<__main__.Node object at 0x713968276b30>, 3)) (S,(<__main__.Node object at 0x7139680be710>, 4)) (B,(<__main__.Node object at 0x713968276b30>, -2)) \n",
      "\n"
     ]
    }
   ],
   "source": [
    "print(Graph)"
   ]
  },
  {
   "cell_type": "markdown",
   "id": "0ed62d3b",
   "metadata": {},
   "source": [
    "***"
   ]
  },
  {
   "cell_type": "markdown",
   "id": "94392ed1",
   "metadata": {},
   "source": [
    "### Section 2: Dijkstra Algorithm"
   ]
  },
  {
   "cell_type": "code",
   "execution_count": 113,
   "id": "b4d19469",
   "metadata": {},
   "outputs": [
    {
     "data": {
      "text/plain": [
       "3"
      ]
     },
     "execution_count": 113,
     "metadata": {},
     "output_type": "execute_result"
    }
   ],
   "source": [
    "len(Graph.vertices)"
   ]
  },
  {
   "cell_type": "code",
   "execution_count": 114,
   "id": "4df8a7a1",
   "metadata": {},
   "outputs": [],
   "source": [
    "def dijkstra(w, Graph):\n",
    "    \n",
    "    for v in Graph.vertices:\n",
    "        v.estD = math.inf\n",
    "        \n",
    "    w.estD = 0\n",
    "    unsureVertices = Graph.vertices[:]\n",
    "    \n",
    "    sureVertices = []\n",
    "    \n",
    "    parents = [None for i in range(len(Graph.vertices))] \n",
    "    #Adrian's suggestion: \n",
    "    # for i in len(G.vertices):\n",
    "    #     G.vertices.index(i).parent = None\n",
    "    # Jamie's solution: Keep a stack as local variable\n",
    "    \n",
    "    while len(unsureVertices) > 0:\n",
    "    \n",
    "        # find the u with the minimum estD in the dumbest way possible\n",
    "        u = None\n",
    "        minD = math.inf\n",
    "        for x in unsureVertices:\n",
    "            if x.estD < minD:\n",
    "                minD = x.estD\n",
    "                u = x\n",
    "        \n",
    "        if u == None:\n",
    "            # then there is nothing more that I can reach\n",
    "            return\n",
    "        \n",
    "        # update u's neighbors\n",
    "        for v, wt in u.getOutNeighborsWithWeights():\n",
    "            \n",
    "            if v in sureVertices:\n",
    "                continue\n",
    "            \n",
    "            if u.estD + wt < v.estD:\n",
    "                v.estD = u.estD + wt\n",
    "                \n",
    "                parents[Graph.vertices.index(v)] = Graph.vertices.index(u)\n",
    "                #Adrian's solution: \n",
    "                # v.parent = u\n",
    "        \n",
    "        unsureVertices.remove(u)\n",
    "        sureVertices.append(u)\n",
    "    \n",
    "    # that's it!  Now each vertex holds estD which is its distance from w"
   ]
  },
  {
   "cell_type": "code",
   "execution_count": 115,
   "id": "5bffc218",
   "metadata": {},
   "outputs": [
    {
     "name": "stdout",
     "output_type": "stream",
     "text": [
      "S 0\n",
      "A 3\n",
      "B 4\n"
     ]
    }
   ],
   "source": [
    "start = Graph.vertices[0]\n",
    "dijkstra(start, Graph)\n",
    "\n",
    "for v in Graph.vertices:\n",
    "    print(v.value, v.estD)"
   ]
  },
  {
   "cell_type": "code",
   "execution_count": 116,
   "id": "0605a1d0",
   "metadata": {},
   "outputs": [
    {
     "name": "stdout",
     "output_type": "stream",
     "text": [
      "S 0\n",
      "E 8\n",
      "A 5\n",
      "D 9\n",
      "B 5\n",
      "C 7\n"
     ]
    }
   ],
   "source": [
    "start = G.vertices[0]\n",
    "dijkstra(start, G)\n",
    "\n",
    "for v in G.vertices:\n",
    "    print(v.value, v.estD)"
   ]
  },
  {
   "cell_type": "code",
   "execution_count": 117,
   "id": "31934701",
   "metadata": {},
   "outputs": [
    {
     "name": "stdout",
     "output_type": "stream",
     "text": [
      "Graph vet 0 is: 0\n",
      "Graph vet 1 is: 3\n",
      "Graph vet 2 is: 4\n"
     ]
    }
   ],
   "source": [
    "for i in range(len(Graph.vertices)):\n",
    "    print(\"Graph vet {} is: {}\".format(i,Graph.vertices[i].estD))"
   ]
  },
  {
   "cell_type": "code",
   "execution_count": 118,
   "id": "b998947d",
   "metadata": {},
   "outputs": [
    {
     "name": "stdout",
     "output_type": "stream",
     "text": [
      "node: S estimated distance: inf\n",
      "node: A estimated distance: inf\n",
      "node: B estimated distance: inf\n"
     ]
    }
   ],
   "source": [
    "for v in range(len(Graph.vertices)):\n",
    "    Graph.vertices[v].estD = math.inf\n",
    "    print(\"node: {} estimated distance: {}\".format(Graph.vertices[v],Graph.vertices[v].estD))"
   ]
  },
  {
   "cell_type": "code",
   "execution_count": 119,
   "id": "7e830ef2",
   "metadata": {},
   "outputs": [
    {
     "name": "stdout",
     "output_type": "stream",
     "text": [
      "[(<__main__.Node object at 0x713968276b30>, 3), (<__main__.Node object at 0x7139680be710>, 4)]\n",
      "[]\n",
      "[(<__main__.Node object at 0x713968276b30>, -2)]\n"
     ]
    }
   ],
   "source": [
    "for i in range(len(Graph.vertices)):\n",
    "    print(Graph.vertices[i].getOutNeighborsWithWeights())"
   ]
  },
  {
   "cell_type": "markdown",
   "id": "0022f18f",
   "metadata": {},
   "source": [
    "***"
   ]
  },
  {
   "cell_type": "markdown",
   "id": "f9b31a04",
   "metadata": {},
   "source": [
    "### <font color='red'> Activity 1: Modify above code to do Bellman-Ford. Make sure you test for negative cycles and compare its performance with Dijkstra. </font>"
   ]
  },
  {
   "cell_type": "code",
   "execution_count": 120,
   "id": "8d176b03",
   "metadata": {},
   "outputs": [],
   "source": [
    "#### TODO ####\n",
    "### Good Luck ###\n",
    "\n",
    "def Bellman(w, Graph):\n",
    "    \n",
    "    # Step 1 we set all the distances to inf\n",
    "    for v in range(len(Graph.vertices)):\n",
    "        Graph.vertices[v].estD = math.inf\n",
    "\n",
    "    # Set our location node to 0\n",
    "    w.estD = 0\n",
    "    for i in range(len(Graph.vertices)-1):\n",
    "        #print(\"Running n-1 times so, Loop: {} of: {}\".format((i+1),(len(Graph.vertices)-1)))\n",
    "        for foo in range(len(Graph.vertices)):\n",
    "            #print(\"For foo = {}\".format(Graph.vertices[foo]))\n",
    "            if Graph.vertices[foo] == None:\n",
    "                return\n",
    "            for v, wt in Graph.vertices[foo].getOutNeighborsWithWeights():\n",
    "                #print(\"Out neighbors with weights direct print: {}\".format(Graph.vertices[foo].getOutNeighborsWithWeights()))\n",
    "                #print(\"v: {} , wt: {}\".format(v,wt))\n",
    "                if Graph.vertices[foo].estD != float(\"Inf\") and Graph.vertices[foo].estD + wt < v.estD:\n",
    "                    v.estD = Graph.vertices[foo].estD + wt\n",
    "\n",
    "                v_final = v\n",
    "                # Check for Negative Cycles\n",
    "                # ----------\n",
    "                # update u's neighbors\n",
    "                for v, wt in Graph.vertices[foo].getOutNeighborsWithWeights():\n",
    "\n",
    "\n",
    "                    if Graph.vertices[foo].estD + wt < v.estD:\n",
    "                        v.estD = Graph.vertices[foo].estD + wt\n",
    "\n",
    "                    if v_final != v:\n",
    "                        print('There are negative cycles')       \n"
   ]
  },
  {
   "cell_type": "code",
   "execution_count": 121,
   "id": "3cb11156",
   "metadata": {},
   "outputs": [
    {
     "name": "stdout",
     "output_type": "stream",
     "text": [
      "There are negative cycles\n",
      "There are negative cycles\n",
      "There are negative cycles\n",
      "There are negative cycles\n",
      "Now we have completed the Bellman-Ford search, so we can check the distances:\n",
      "Node: S Distance: 0\n",
      "Node: A Distance: 2\n",
      "Node: B Distance: 4\n"
     ]
    }
   ],
   "source": [
    "start = Graph.vertices[0]\n",
    "Bellman(start, Graph)\n",
    "print(\"Now we have completed the Bellman-Ford search, so we can check the distances:\")\n",
    "for v in Graph.vertices:\n",
    "    print(\"Node: {} Distance: {}\".format(v.value, v.estD))"
   ]
  },
  {
   "cell_type": "code",
   "execution_count": 122,
   "id": "697b3d6e",
   "metadata": {},
   "outputs": [
    {
     "name": "stdout",
     "output_type": "stream",
     "text": [
      "There are negative cycles\n",
      "There are negative cycles\n",
      "There are negative cycles\n",
      "There are negative cycles\n",
      "There are negative cycles\n",
      "There are negative cycles\n",
      "There are negative cycles\n",
      "There are negative cycles\n",
      "There are negative cycles\n",
      "There are negative cycles\n",
      "There are negative cycles\n",
      "There are negative cycles\n",
      "There are negative cycles\n",
      "There are negative cycles\n",
      "There are negative cycles\n",
      "There are negative cycles\n",
      "There are negative cycles\n",
      "There are negative cycles\n",
      "There are negative cycles\n",
      "There are negative cycles\n",
      "Now we have completed the Bellman-Ford search, so we can check the distances:\n",
      "Node: S Distance: 0\n",
      "Node: E Distance: 8\n",
      "Node: A Distance: 5\n",
      "Node: D Distance: 9\n",
      "Node: B Distance: 5\n",
      "Node: C Distance: 7\n"
     ]
    }
   ],
   "source": [
    "start = G.vertices[0]\n",
    "Bellman(start, G)\n",
    "print(\"Now we have completed the Bellman-Ford search, so we can check the distances:\")\n",
    "for v in G.vertices:\n",
    "    print(\"Node: {} Distance: {}\".format(v.value, v.estD))"
   ]
  },
  {
   "cell_type": "markdown",
   "id": "9c64f77d",
   "metadata": {},
   "source": [
    "***"
   ]
  },
  {
   "cell_type": "markdown",
   "id": "ebd772d0",
   "metadata": {},
   "source": [
    "### <font color='red'> Activity 2: Implement Floyd-Warshal algorithm using above data structure (that is Node and Graph). Make sure to test all the use-cases. </font>"
   ]
  },
  {
   "cell_type": "code",
   "execution_count": 123,
   "id": "edf0acbd",
   "metadata": {},
   "outputs": [
    {
     "ename": "IndentationError",
     "evalue": "expected an indented block after 'for' statement on line 28 (1971439773.py, line 38)",
     "output_type": "error",
     "traceback": [
      "\u001b[0;36m  Cell \u001b[0;32mIn[123], line 38\u001b[0;36m\u001b[0m\n\u001b[0;31m    if distance < 0:\u001b[0m\n\u001b[0m                    ^\u001b[0m\n\u001b[0;31mIndentationError\u001b[0m\u001b[0;31m:\u001b[0m expected an indented block after 'for' statement on line 28\n"
     ]
    }
   ],
   "source": [
    "#### TODO ####\n",
    "### Good Luck ###\n",
    "\n",
    "\n",
    "# Part 1: (Initialzation of your D matrix)\n",
    "# set len of n\n",
    "n = len(G.vertices)\n",
    "# create distance array\n",
    "distance = [[] for i in range(0,n)]\n",
    "# Fill with 0\n",
    "distance = np.zeros(n, n)\n",
    "# then fill wiht infinite\n",
    "np.fill(np.inf)\n",
    "# Set all diagonal to 0\n",
    "np.fill.diagonal(0)\n",
    "\n",
    "parents = [[] for i in range(0,n)]\n",
    "parents = np.zeros(n, n)\n",
    "\n",
    "\n",
    "for u in range(0, n):\n",
    "    for v, wt in u.getOutNeighborsWithWeights():\n",
    "        distance[G.vertices.index(u),G.vertices.index(v)] = wt\n",
    "\n",
    "\n",
    "# Part 2: (Use of DP to solve the problem)\n",
    "\n",
    "for u in range(0, n):\n",
    "    \n",
    "    for u in range(0, n):\n",
    "        \n",
    "        for u in range(0, n):\n",
    "            \n",
    "            # Implementing/Writing the Floyd Warshall's DP equation\n",
    "            \n",
    "            # Update the Parents matrix \n",
    "\n",
    "\n",
    "# Part 3: Determine if there are negative cycles\n",
    "\n",
    "# Loop over the values of Distance and see if any one of them < 0\n",
    "if distance < 0:\n",
    "    \n",
    "\n",
    "\n",
    "# Part 4: Print out the Path\n",
    "\n",
    "\n",
    "    \n",
    "\n",
    "\n",
    "\n",
    "\n"
   ]
  },
  {
   "cell_type": "markdown",
   "id": "e143dc12",
   "metadata": {},
   "source": [
    "***"
   ]
  },
  {
   "cell_type": "markdown",
   "id": "79cfe7ab",
   "metadata": {},
   "source": [
    "***"
   ]
  }
 ],
 "metadata": {
  "kernelspec": {
   "display_name": "Python 3 (ipykernel)",
   "language": "python",
   "name": "python3"
  },
  "language_info": {
   "codemirror_mode": {
    "name": "ipython",
    "version": 3
   },
   "file_extension": ".py",
   "mimetype": "text/x-python",
   "name": "python",
   "nbconvert_exporter": "python",
   "pygments_lexer": "ipython3",
   "version": "3.10.12"
  }
 },
 "nbformat": 4,
 "nbformat_minor": 5
}
