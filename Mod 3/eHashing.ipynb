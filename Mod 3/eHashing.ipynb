{
 "cells": [
  {
   "cell_type": "code",
   "execution_count": 39,
   "id": "531effb6-c317-4c0e-b9e5-c52c0a55642e",
   "metadata": {},
   "outputs": [],
   "source": [
    "import numpy as np\n",
    "import os\n",
    "import string\n",
    "import random\n",
    "import csv"
   ]
  },
  {
   "cell_type": "markdown",
   "id": "4665cb55-0114-4dd9-9972-f9a34b7ba7b5",
   "metadata": {},
   "source": [
    "# Core Functions"
   ]
  },
  {
   "cell_type": "code",
   "execution_count": 40,
   "id": "db681042-0279-4691-84a6-bea80fbfd646",
   "metadata": {},
   "outputs": [],
   "source": [
    "'''\n",
    "This is what we use to convert a variable to a binary sring.\n",
    "Takes in the key, then uses format to format it to a 16 len binary string.\n",
    "Important to not that it is explicitly a string, not an int.\n",
    "'''\n",
    "def hash_funtion(key):\n",
    "    \n",
    "    return  '{0:016b}'.format(key)\n",
    "\n",
    "#\n",
    "class Bucket:\n",
    "    \n",
    "    def __init__(self,local_depth,index,empty_spaces,id):\n",
    "        \n",
    "        self.id = id\n",
    "        self.local_depth = local_depth\n",
    "        self.index = index\n",
    "        self.empty_spaces = empty_spaces\n",
    "\n",
    "class Directory:\n",
    "    \n",
    "    def  __init__(self,global_depth,directory_records):\n",
    "        \n",
    "        self.global_depth = global_depth,\n",
    "        self.directory_records = directory_records\n",
    "\n",
    "class DirectoryRecord:\n",
    "    \n",
    "    def __init__(self,bucket, hash_prefix):\n",
    "        \n",
    "        self.hash_prefix = hash_prefix\n",
    "        self.value = bucket"
   ]
  },
  {
   "cell_type": "markdown",
   "id": "b8d07855-6682-44c0-ba2c-dbeee31664a6",
   "metadata": {},
   "source": [
    "# Hyper Parameters"
   ]
  },
  {
   "cell_type": "code",
   "execution_count": 41,
   "id": "1aad45c8-7c64-4035-871f-5b24afec8e35",
   "metadata": {},
   "outputs": [],
   "source": [
    "bucket_capacity = 2\n",
    "bucket_number = 3\n",
    "global_depth = 2"
   ]
  },
  {
   "cell_type": "code",
   "execution_count": 42,
   "id": "4818defb-e9f3-49ab-97d0-94abe9aed24b",
   "metadata": {},
   "outputs": [],
   "source": [
    "# Initialization of buckets\n",
    "bucket1 = Bucket(local_depth = 1, empty_spaces = bucket_capacity, index = [], id = 1)\n",
    "bucket2 = Bucket(local_depth = 1, empty_spaces = bucket_capacity, index = [], id = 2)\n",
    "\n",
    "# Initialization of directory\n",
    "directory_records = list()  \n",
    "\n",
    "directory_records.append(DirectoryRecord(hash_prefix = 0, bucket = bucket1))\n",
    "directory_records.append(DirectoryRecord(hash_prefix = 1, bucket = bucket2))\n",
    "\n",
    "directory = Directory(global_depth = 1, directory_records = directory_records)"
   ]
  },
  {
   "cell_type": "code",
   "execution_count": 43,
   "id": "68d1b369-6313-487d-a762-e92b189358c4",
   "metadata": {},
   "outputs": [
    {
     "data": {
      "text/plain": [
       "[<__main__.DirectoryRecord at 0x7de64c6ca830>,\n",
       " <__main__.DirectoryRecord at 0x7de64c6c8e20>]"
      ]
     },
     "execution_count": 43,
     "metadata": {},
     "output_type": "execute_result"
    }
   ],
   "source": [
    "directory_records"
   ]
  },
  {
   "cell_type": "code",
   "execution_count": 44,
   "id": "eb481a8b",
   "metadata": {},
   "outputs": [
    {
     "data": {
      "text/plain": [
       "1"
      ]
     },
     "execution_count": 44,
     "metadata": {},
     "output_type": "execute_result"
    }
   ],
   "source": [
    "directory.directory_records[1].hash_prefix"
   ]
  },
  {
   "cell_type": "markdown",
   "id": "de3389f1-00ce-4be4-b605-bef5bbe1324d",
   "metadata": {},
   "source": [
    "# Insertion Algorithm"
   ]
  },
  {
   "cell_type": "code",
   "execution_count": 45,
   "id": "95797ec3-5dc0-49a5-905e-ee7fc90a3f62",
   "metadata": {},
   "outputs": [],
   "source": [
    "def insert(index):\n",
    "    \n",
    "    global directory\n",
    "    global bucket_number\n",
    "    \n",
    "    t_id = index[0]\n",
    "    hash_key = hash_funtion(int(t_id))\n",
    "    \n",
    "    hash_prefix = int(hash_key[-directory.global_depth[0]:], 2)\n",
    "\n",
    "    bucket = directory.directory_records[hash_prefix].value\n",
    "    bucket.index.append(index)\n",
    "    bucket.empty_spaces = int(bucket.empty_spaces)-1\n",
    "\n",
    "    if(bucket.empty_spaces < 0):\n",
    "\n",
    "        tempopary_memory = bucket.index    \n",
    "        bucket.empty_spaces = bucket_capacity\n",
    "        bucket.index = []\n",
    "\n",
    "        if (directory.global_depth[0] > bucket.local_depth):\n",
    "\n",
    "            # NUMBER OF LINKED BUCKETS\n",
    "            number_of_links = 2*(directory.global_depth[0] - bucket.local_depth)\n",
    "            print(\"Woo\",number_of_links)\n",
    "            bucket.local_depth = bucket.local_depth + 1\n",
    "            number_of_modify_links = number_of_links/2 \n",
    "\n",
    "            new_bucket = Bucket(local_depth = bucket.local_depth, index=[], empty_spaces = bucket_capacity, id = bucket_number)\n",
    "\n",
    "            for directory_record in directory.directory_records:\n",
    "\n",
    "                if(directory_record.value == bucket):\n",
    "                    if(number_of_modify_links != 0):\n",
    "                        number_of_modify_links = number_of_modify_links - 1\n",
    "                    else:\n",
    "                        directory_record.value = new_bucket\n",
    "                        bucket_number = bucket_number + 1\n",
    "\n",
    "            for i in range(len(tempopary_memory)):\n",
    "                insert(tempopary_memory[i])\n",
    "                \n",
    "\n",
    "        elif (directory.global_depth[0] == bucket.local_depth):\n",
    "            \n",
    "            new_directory_len = 2 * len(directory.directory_records)\n",
    "            new_directory_records = []\n",
    "\n",
    "            for directory_record_number in range(new_directory_len):\n",
    "                new_directory_records.append(DirectoryRecord(hash_prefix=directory_record_number,bucket=Bucket(local_depth=1,index=[],empty_spaces=bucket_capacity,id=bucket_number)))\n",
    "                #bucket_number = bucket_number + 1\n",
    "            \n",
    "            new_directory = Directory(global_depth=directory.global_depth[0]+1,directory_records=new_directory_records)\n",
    "\n",
    "            # REHASING\n",
    "\n",
    "            for directory_record in directory.directory_records:\n",
    "                haskey1 = '0'+hash_funtion(directory_record.hash_prefix)\n",
    "                haskey2 = '1'+hash_funtion(directory_record.hash_prefix)\n",
    "                new_index1 = int(haskey1[-directory.global_depth[0]:],2)\n",
    "                new_index2 = int(haskey2[-directory.global_depth[0]:],2)\n",
    "\n",
    "                new_directory.directory_records[new_index1].value = directory_record.value\n",
    "                new_directory.directory_records[new_index2].value = directory_record.value\n",
    "\n",
    "            directory= new_directory\n",
    "\n",
    "            for i in range(len(tempopary_memory)):\n",
    "\n",
    "                insert(tempopary_memory[i])\n",
    "    \n"
   ]
  },
  {
   "cell_type": "markdown",
   "id": "e8659370-ca36-4b92-aaf9-5af8c1cb3bab",
   "metadata": {},
   "source": [
    "# Evidence of running the code"
   ]
  },
  {
   "cell_type": "code",
   "execution_count": 46,
   "id": "d98b8d5a-4b5a-4ed4-9ab1-7f42a5f7492b",
   "metadata": {},
   "outputs": [],
   "source": [
    "t_id = 0\n",
    "t_amount = 100\n",
    "u_name = 'David'\n",
    "\n",
    "insert([t_id, t_amount, u_name])\n",
    "t_id = 1\n",
    "t_amount = 101\n",
    "u_name = 'David2'\n",
    "insert([t_id, t_amount, u_name])"
   ]
  },
  {
   "cell_type": "code",
   "execution_count": 47,
   "id": "d0dc256b-4b44-4bc1-834a-1c4d3ca375bc",
   "metadata": {},
   "outputs": [
    {
     "data": {
      "text/plain": [
       "[<__main__.DirectoryRecord at 0x7de64c6ca830>,\n",
       " <__main__.DirectoryRecord at 0x7de64c6c8e20>]"
      ]
     },
     "execution_count": 47,
     "metadata": {},
     "output_type": "execute_result"
    }
   ],
   "source": [
    "directory_records"
   ]
  },
  {
   "cell_type": "code",
   "execution_count": 48,
   "id": "069f1e44-9764-40e3-957c-b1f5b8752d7d",
   "metadata": {},
   "outputs": [
    {
     "data": {
      "text/plain": [
       "[[0, 100, 'David']]"
      ]
     },
     "execution_count": 48,
     "metadata": {},
     "output_type": "execute_result"
    }
   ],
   "source": [
    "directory.directory_records[0].value.index"
   ]
  },
  {
   "cell_type": "code",
   "execution_count": 49,
   "id": "cf63a3fc",
   "metadata": {},
   "outputs": [],
   "source": [
    "t_id = 2\n",
    "t_amount = 102\n",
    "u_name = 'David2'\n",
    "insert([t_id, t_amount, u_name])"
   ]
  },
  {
   "cell_type": "code",
   "execution_count": 50,
   "id": "15bf5918",
   "metadata": {},
   "outputs": [
    {
     "data": {
      "text/plain": [
       "[<__main__.DirectoryRecord at 0x7de64c6ca830>,\n",
       " <__main__.DirectoryRecord at 0x7de64c6c8e20>]"
      ]
     },
     "execution_count": 50,
     "metadata": {},
     "output_type": "execute_result"
    }
   ],
   "source": [
    "directory_records"
   ]
  },
  {
   "cell_type": "code",
   "execution_count": 51,
   "id": "c5917fbf",
   "metadata": {},
   "outputs": [
    {
     "data": {
      "text/plain": [
       "[0, 100, 'David']"
      ]
     },
     "execution_count": 51,
     "metadata": {},
     "output_type": "execute_result"
    }
   ],
   "source": [
    "directory.directory_records[0].value.index[0]"
   ]
  },
  {
   "cell_type": "code",
   "execution_count": 52,
   "id": "6dc733a6",
   "metadata": {},
   "outputs": [
    {
     "data": {
      "text/plain": [
       "1"
      ]
     },
     "execution_count": 52,
     "metadata": {},
     "output_type": "execute_result"
    }
   ],
   "source": [
    "directory.directory_records[0].value.local_depth"
   ]
  },
  {
   "cell_type": "markdown",
   "id": "acb6dca8",
   "metadata": {},
   "source": [
    "This to me seems like evidence that something is not functional, the bucket should split since it's local depth is one yet it is soring 2 values..."
   ]
  },
  {
   "cell_type": "code",
   "execution_count": 53,
   "id": "89ef72c4",
   "metadata": {},
   "outputs": [],
   "source": [
    "t_id = 4\n",
    "t_amount = 102\n",
    "u_name = 'David2'\n",
    "insert([t_id, t_amount, u_name])"
   ]
  },
  {
   "cell_type": "markdown",
   "id": "675e54d7",
   "metadata": {},
   "source": [
    "---------------------------------------------------------------------------\n",
    "NameError                                 Traceback (most recent call last)\n",
    "Cell In[15], line 4\n",
    "      2 t_amount = 102\n",
    "      3 u_name = 'David2'\n",
    "----> 4 insert([t_id, t_amount, u_name])\n",
    "\n",
    "Cell In[7], line 69\n",
    "     65 directory= new_directory\n",
    "     67 for i in range(len(tempopary_memory)):\n",
    "---> 69     insert(tempopary_memory[i],lock)\n",
    "\n",
    "NameError: name 'lock' is not defined\n",
    "---------------------------------------------------------------------------\n",
    "Hmm something is broken here... what is lock and why isnt it defined..."
   ]
  },
  {
   "cell_type": "code",
   "execution_count": 54,
   "id": "0c9e6a6f",
   "metadata": {},
   "outputs": [
    {
     "data": {
      "text/plain": [
       "[<__main__.DirectoryRecord at 0x7de64c6c98d0>,\n",
       " <__main__.DirectoryRecord at 0x7de64c6c9000>,\n",
       " <__main__.DirectoryRecord at 0x7de64c6cbbb0>,\n",
       " <__main__.DirectoryRecord at 0x7de64c6cb430>]"
      ]
     },
     "execution_count": 54,
     "metadata": {},
     "output_type": "execute_result"
    }
   ],
   "source": [
    "directory.directory_records"
   ]
  },
  {
   "cell_type": "code",
   "execution_count": 55,
   "id": "89129761",
   "metadata": {},
   "outputs": [
    {
     "name": "stdout",
     "output_type": "stream",
     "text": [
      "0000000000000000\n",
      "1\n",
      "1\n",
      "[[0, 100, 'David'], [4, 102, 'David2']]\n",
      "0000000000000001\n",
      "2\n",
      "1\n",
      "[[1, 101, 'David2']]\n",
      "0000000000000010\n",
      "3\n",
      "1\n",
      "[[2, 102, 'David2']]\n",
      "0000000000000011\n",
      "3\n",
      "1\n",
      "[]\n"
     ]
    }
   ],
   "source": [
    "for i in range(len(directory.directory_records)):\n",
    "    print(hash_funtion(directory.directory_records[i].hash_prefix))\n",
    "    print(directory.directory_records[i].value.id)\n",
    "    print(directory.directory_records[i].value.local_depth)\n",
    "    print(directory.directory_records[i].value.index)\n"
   ]
  },
  {
   "cell_type": "markdown",
   "id": "4e39ebf9",
   "metadata": {},
   "source": [
    "0000000000000000\n",
    "1\n",
    "1\n",
    "[[0, 100, 'David'], [4, 102, 'David2']]\n",
    "0000000000000001\n",
    "2\n",
    "1\n",
    "[[1, 101, 'David2']]\n",
    "0000000000000010\n",
    "5\n",
    "1\n",
    "[[2, 102, 'David2']]\n",
    "0000000000000011\n",
    "6\n",
    "1\n",
    "[]"
   ]
  },
  {
   "cell_type": "code",
   "execution_count": 56,
   "id": "95c7636f",
   "metadata": {},
   "outputs": [
    {
     "name": "stdout",
     "output_type": "stream",
     "text": [
      "Woo 2\n"
     ]
    }
   ],
   "source": [
    "t_id = 8\n",
    "t_amount = 102\n",
    "u_name = 'David2'\n",
    "insert([t_id, t_amount, u_name])"
   ]
  },
  {
   "cell_type": "code",
   "execution_count": 57,
   "id": "4eafad18",
   "metadata": {},
   "outputs": [
    {
     "name": "stdout",
     "output_type": "stream",
     "text": [
      "0000000000000000\n",
      "ID:  1\n",
      "2\n",
      "[[0, 100, 'David'], [8, 102, 'David2']]\n",
      "0000000000000001\n",
      "ID:  2\n",
      "1\n",
      "[[1, 101, 'David2']]\n",
      "0000000000000010\n",
      "ID:  3\n",
      "1\n",
      "[[2, 102, 'David2']]\n",
      "0000000000000011\n",
      "ID:  3\n",
      "1\n",
      "[]\n",
      "0000000000000100\n",
      "ID:  3\n",
      "1\n",
      "[[4, 102, 'David2']]\n",
      "0000000000000101\n",
      "ID:  3\n",
      "1\n",
      "[]\n",
      "0000000000000110\n",
      "ID:  3\n",
      "1\n",
      "[]\n",
      "0000000000000111\n",
      "ID:  3\n",
      "1\n",
      "[]\n"
     ]
    }
   ],
   "source": [
    "for i in range(len(directory.directory_records)):\n",
    "    print(hash_funtion(directory.directory_records[i].hash_prefix))\n",
    "    print(\"ID: \",directory.directory_records[i].value.id)\n",
    "    print(directory.directory_records[i].value.local_depth)\n",
    "    print(directory.directory_records[i].value.index)"
   ]
  }
 ],
 "metadata": {
  "kernelspec": {
   "display_name": "Python 3 (ipykernel)",
   "language": "python",
   "name": "python3"
  },
  "language_info": {
   "codemirror_mode": {
    "name": "ipython",
    "version": 3
   },
   "file_extension": ".py",
   "mimetype": "text/x-python",
   "name": "python",
   "nbconvert_exporter": "python",
   "pygments_lexer": "ipython3",
   "version": "3.10.12"
  }
 },
 "nbformat": 4,
 "nbformat_minor": 5
}
