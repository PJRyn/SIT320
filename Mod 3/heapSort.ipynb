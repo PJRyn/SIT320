{
 "cells": [
  {
   "cell_type": "code",
   "execution_count": 10,
   "metadata": {},
   "outputs": [],
   "source": [
    "import heapq\n",
    "import random\n",
    "import os\n",
    "import numpy as np"
   ]
  },
  {
   "cell_type": "code",
   "execution_count": 11,
   "metadata": {},
   "outputs": [
    {
     "name": "stdout",
     "output_type": "stream",
     "text": [
      "[[86, 35, 94, 30], [54, 32, 16, 66], [52, 9, 14, 71]]\n",
      "3\n"
     ]
    }
   ],
   "source": [
    "diskList = []\n",
    "for i in range(3):\n",
    "    sampleNumbers = random.sample(range(1, 99), 4)\n",
    "    diskList.append(sampleNumbers)\n",
    "print(diskList)\n",
    "print(len(diskList))"
   ]
  },
  {
   "cell_type": "code",
   "execution_count": 12,
   "metadata": {},
   "outputs": [
    {
     "data": {
      "text/plain": [
       "array([16, 32, 54, 66])"
      ]
     },
     "execution_count": 12,
     "metadata": {},
     "output_type": "execute_result"
    }
   ],
   "source": [
    "np.sort(diskList[1])"
   ]
  },
  {
   "cell_type": "code",
   "execution_count": 14,
   "metadata": {},
   "outputs": [
    {
     "name": "stdout",
     "output_type": "stream",
     "text": [
      "[[30, 35, 86, 94], [16, 32, 54, 66], [9, 14, 52, 71]]\n"
     ]
    }
   ],
   "source": [
    "# Pass 1\n",
    "Diskoutput = []\n",
    "for i in range(len(diskList)):\n",
    "    initalSort = np.sort(diskList[i])\n",
    "    Diskoutput.append(initalSort.tolist())\n",
    "print(Diskoutput)"
   ]
  },
  {
   "cell_type": "code",
   "execution_count": 15,
   "metadata": {},
   "outputs": [
    {
     "data": {
      "text/plain": [
       "[[30, 35, 86, 94], [16, 32, 54, 66], [9, 14, 52, 71]]"
      ]
     },
     "execution_count": 15,
     "metadata": {},
     "output_type": "execute_result"
    }
   ],
   "source": [
    "Diskoutput"
   ]
  },
  {
   "cell_type": "code",
   "execution_count": 19,
   "metadata": {},
   "outputs": [],
   "source": [
    "import itertools\n",
    "\n",
    "Diskoutput = list(itertools.chain.from_iterable(Diskoutput))\n",
    "Diskoutput = np.sort(Diskoutput)"
   ]
  },
  {
   "cell_type": "code",
   "execution_count": 21,
   "metadata": {},
   "outputs": [
    {
     "data": {
      "text/plain": [
       "array([ 9, 14, 16, 30, 32, 35, 52, 54, 66, 71, 86, 94])"
      ]
     },
     "execution_count": 21,
     "metadata": {},
     "output_type": "execute_result"
    }
   ],
   "source": [
    "Diskoutput"
   ]
  }
 ],
 "metadata": {
  "kernelspec": {
   "display_name": "Python 3",
   "language": "python",
   "name": "python3"
  },
  "language_info": {
   "codemirror_mode": {
    "name": "ipython",
    "version": 3
   },
   "file_extension": ".py",
   "mimetype": "text/x-python",
   "name": "python",
   "nbconvert_exporter": "python",
   "pygments_lexer": "ipython3",
   "version": "3.10.12"
  }
 },
 "nbformat": 4,
 "nbformat_minor": 2
}
