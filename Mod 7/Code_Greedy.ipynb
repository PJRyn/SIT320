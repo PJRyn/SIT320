{
 "cells": [
  {
   "cell_type": "markdown",
   "id": "imposed-playlist",
   "metadata": {},
   "source": [
    "# Greedy Algorithms"
   ]
  },
  {
   "cell_type": "markdown",
   "id": "d97cce87",
   "metadata": {},
   "source": [
    "Lab associated with Module 8: Greedy Algorithms"
   ]
  },
  {
   "cell_type": "markdown",
   "id": "5c7f2e9d",
   "metadata": {},
   "source": [
    "***"
   ]
  },
  {
   "cell_type": "code",
   "execution_count": 15,
   "id": "5b495ad0",
   "metadata": {},
   "outputs": [
    {
     "name": "stderr",
     "output_type": "stream",
     "text": [
      "/tmp/ipykernel_19529/1945220536.py:2: DeprecationWarning: Importing display from IPython.core.display is deprecated since IPython 7.14, please import from IPython display\n",
      "  from IPython.core.display import display, HTML\n"
     ]
    },
    {
     "data": {
      "text/html": [
       "<style>.container { width:95% !important; }</style>"
      ],
      "text/plain": [
       "<IPython.core.display.HTML object>"
      ]
     },
     "metadata": {},
     "output_type": "display_data"
    }
   ],
   "source": [
    "# The following lines are used to increase the width of cells to utilize more space on the screen \n",
    "from IPython.core.display import display, HTML\n",
    "display(HTML(\"<style>.container { width:95% !important; }</style>\"))"
   ]
  },
  {
   "cell_type": "markdown",
   "id": "3a2b855c",
   "metadata": {},
   "source": [
    "***"
   ]
  },
  {
   "cell_type": "markdown",
   "id": "9d0921a0",
   "metadata": {},
   "source": [
    "### Section 0: Imports"
   ]
  },
  {
   "cell_type": "code",
   "execution_count": 16,
   "id": "477622d5",
   "metadata": {},
   "outputs": [],
   "source": [
    "import numpy as np"
   ]
  },
  {
   "cell_type": "code",
   "execution_count": 17,
   "id": "50fb5ed5",
   "metadata": {},
   "outputs": [],
   "source": [
    "import math"
   ]
  },
  {
   "cell_type": "code",
   "execution_count": 18,
   "id": "9910ee06",
   "metadata": {},
   "outputs": [],
   "source": [
    "from IPython.display import Image\n",
    "from graphviz import Digraph"
   ]
  },
  {
   "cell_type": "markdown",
   "id": "7f9321f8",
   "metadata": {},
   "source": [
    "***"
   ]
  },
  {
   "cell_type": "markdown",
   "id": "f9b31a04",
   "metadata": {},
   "source": [
    "### <font color='red'> Activity 1: Write code for creating a prefix tree for any arbitrary distribution, e.g., [A:45, B:13, C:12, D:16, E:9, F:5]. Your algorithm should return the prefix tree and should display the correct code for every alphabet.. </font>"
   ]
  },
  {
   "cell_type": "code",
   "execution_count": 19,
   "id": "670ff231",
   "metadata": {},
   "outputs": [
    {
     "name": "stdout",
     "output_type": "stream",
     "text": [
      "*Graph Construction:\n",
      "Taken bottom two nodes, left: F, right: E\n",
      "New Node Combination: FE , Value: 14\n",
      "Taken bottom two nodes, left: C, right: B\n",
      "New Node Combination: CB , Value: 25\n",
      "Taken bottom two nodes, left: FE, right: D\n",
      "New Node Combination: FED , Value: 30\n",
      "Taken bottom two nodes, left: CB, right: FED\n",
      "New Node Combination: CBFED , Value: 55\n",
      "Taken bottom two nodes, left: A, right: CBFED\n",
      "New Node Combination: ACBFED , Value: 100\n",
      "\n",
      "*Each node within the graph: \n",
      "inital: ACBFED\n",
      "Left: A\n",
      "Right: CBFED\n",
      "Left: CB\n",
      "Left: C\n",
      "Right: B\n",
      "Right: FED\n",
      "Left: FE\n",
      "Left: F\n",
      "Right: E\n",
      "Right: D\n",
      "\n",
      "*Each value binary address:\n",
      "Binary code: A, 0\n",
      "Binary code: C, 100\n",
      "Binary code: B, 101\n",
      "Binary code: F, 1100\n",
      "Binary code: E, 1101\n",
      "Binary code: D, 111\n"
     ]
    }
   ],
   "source": [
    "# Define our nodes based on the ones from code_trees\n",
    "class Node: \n",
    "    def __init__(self, val, char,): \n",
    "        # weight of the letter\n",
    "        self.val = val \n",
    "        # The character\n",
    "        self.char = char  \n",
    "        # Left child\n",
    "        self.l = None \n",
    "        # Right child\n",
    "        self.r = None\n",
    "        # Store the entry within the tree - worth noting smaller values go right\n",
    "        self.binary = ''\n",
    "\n",
    "# Gets the binary by running through the tree recersivly\n",
    "def traverseBinary(node, binary): \n",
    "    \n",
    "    # Add a new the inherited binary to the value\n",
    "    newBinary = binary + str(node.binary) \n",
    "    \n",
    "    # If we have a left child go down to the left\n",
    "    if(node.l): \n",
    "        traverseBinary(node.l, newBinary) \n",
    "    \n",
    "    # If we have a right child go down to the right\n",
    "    if(node.r):\n",
    "        traverseBinary(node.r, newBinary) \n",
    "   \n",
    "    # If we are at a dead end print it\n",
    "    if(not node.l and not node.r): \n",
    "        print(\"Binary code: {}, {}\".format(node.char, newBinary)) \n",
    "\n",
    "# Walk through and print each child as they come up and dont reprint if on the list\n",
    "def printGraph(node, printed):\n",
    "    \n",
    "    # Check for left child and dont print if it is on the pinted list\n",
    "    if(node.l) and (node.l not in printed): \n",
    "        print(\"Left: {}\".format(node.l.char))\n",
    "        printed.append(node.l.char)\n",
    "        printGraph(node.l, printed) \n",
    "    \n",
    "    # Check for left child and dont print if it is on the pinted list\n",
    "    if(node.r) and (node.r not in printed):\n",
    "        print(\"Right: {}\".format(node.r.char))\n",
    "        printed.append(node.r.char)\n",
    "        printGraph(node.r,printed) \n",
    "\n",
    "# Huffman algorithm\n",
    "def huffman (input):\n",
    "    \n",
    "    # Create a list to represent the graph\n",
    "    graph = []\n",
    "    # List for all letters\n",
    "    letter = []\n",
    "    # List for how much each value is worth\n",
    "    weight = []\n",
    "    \n",
    "    # Iterate through the dict we bring in and fill letter and weight lists\n",
    "    for x in input:\n",
    "        letter.append(x)\n",
    "        weight.append(input[x])\n",
    "    \n",
    "    # use the weight and the letters to add to our graph\n",
    "    for x in range(len(weight)):\n",
    "        graph.append(Node(weight[x],letter[x]))\n",
    "    \n",
    "    # Now we make our graph\n",
    "    print(f\"*Graph Construction:\")\n",
    "    while True: \n",
    "        # Sort the graph then get the bottom two values\n",
    "        graph.sort(key=lambda x: x.val, reverse=True)\n",
    "        leftEntry, rightEntry = graph.pop(), graph.pop()\n",
    "\n",
    "        #Assign binary for later\n",
    "        rightEntry.binary = '1'\n",
    "        leftEntry.binary = '0'\n",
    "        print(\"Taken bottom two nodes, left: {}, right: {}\".format(leftEntry.char,rightEntry.char))\n",
    "\n",
    "        # Create a new node, add its children then add to list\n",
    "        combineValue = rightEntry.val+leftEntry.val\n",
    "        combineChar = leftEntry.char+rightEntry.char\n",
    "        combineNode = Node(combineValue, combineChar)\n",
    "        combineNode.l = leftEntry\n",
    "        combineNode.r = rightEntry\n",
    "        graph.append(combineNode)\n",
    "\n",
    "        print(\"New Node Combination: {} , Value: {}\".format(combineNode.char, combineNode.val))\n",
    "\n",
    "        # Stop when we have combine all values\n",
    "        if len(graph) == 1:\n",
    "            break\n",
    " \n",
    "    #Print\n",
    "    print(f\"\\n*Each node within the graph: \\ninital: {graph[0].char}\")\n",
    "    printGraph(graph[0],[])\n",
    "    print(f\"\\n*Each value binary address:\")\n",
    "    newBinary = \"\"\n",
    "    traverseBinary(graph[0], newBinary)\n",
    " \n",
    "input = {'A':45, 'B':13,'C':12,'D':16,'E':9,'F':5}\n",
    "\n",
    "huffman(input)"
   ]
  },
  {
   "cell_type": "markdown",
   "id": "6570890e",
   "metadata": {},
   "source": [
    "***"
   ]
  },
  {
   "cell_type": "markdown",
   "id": "6e92fc09",
   "metadata": {},
   "source": [
    "###  Prim's Algorithm"
   ]
  },
  {
   "cell_type": "markdown",
   "id": "ce467019",
   "metadata": {},
   "source": [
    "Graph's Preliminaries"
   ]
  },
  {
   "cell_type": "code",
   "execution_count": 20,
   "id": "4cdc7ece",
   "metadata": {},
   "outputs": [],
   "source": [
    "from graph import *"
   ]
  },
  {
   "cell_type": "code",
   "execution_count": 21,
   "id": "a75ba3ec",
   "metadata": {},
   "outputs": [],
   "source": [
    "G = Graph()\n",
    "\n",
    "for i in ['A', 'B', 'C', 'D', 'E', 'F', 'G', 'H', 'I']:\n",
    "    G.addVertex( Node(i) )"
   ]
  },
  {
   "cell_type": "code",
   "execution_count": 22,
   "id": "c990d75e",
   "metadata": {},
   "outputs": [],
   "source": [
    "V = G.vertices\n",
    "\n",
    "#0, 1, 2, 3, 4, 5, 6, 7, 8\n",
    "#A, B, C, D, E, F, G, H, I\n",
    "\n",
    "G.addBiEdge( V[0], V[1], 4)\n",
    "\n",
    "G.addBiEdge( V[0], V[7] , 8)\n",
    "\n",
    "G.addBiEdge( V[1], V[7], 11)\n",
    "\n",
    "G.addBiEdge( V[1], V[2], 8)\n",
    "\n",
    "G.addBiEdge( V[2], V[3], 7)\n",
    "\n",
    "G.addBiEdge( V[3], V[4], 9)\n",
    "\n",
    "G.addBiEdge( V[3], V[5], 14 )\n",
    "\n",
    "G.addBiEdge( V[4], V[5], 10 )\n",
    "\n",
    "G.addBiEdge( V[2], V[5], 4 )\n",
    "\n",
    "G.addBiEdge( V[2], V[8], 2 )\n",
    "\n",
    "G.addBiEdge( V[5], V[6], 2 )\n",
    "\n",
    "G.addBiEdge( V[6], V[7], 1 )\n",
    "\n",
    "G.addBiEdge( V[6], V[8], 6 )\n",
    "\n",
    "G.addBiEdge( V[7], V[8], 7 )\n"
   ]
  },
  {
   "cell_type": "code",
   "execution_count": 23,
   "id": "2ac81f26",
   "metadata": {},
   "outputs": [
    {
     "name": "stdout",
     "output_type": "stream",
     "text": [
      "Graph with:\n",
      "\t Vertices:\n",
      "\tA,B,C,D,E,F,G,H,I,\n",
      "\t Edges:\n",
      "\t(A,(<graph.Node object at 0x700fa95a35e0>, 4)) (A,(<graph.Node object at 0x700fa95a3550>, 8)) (B,(<graph.Node object at 0x700fa95a2fe0>, 4)) (B,(<graph.Node object at 0x700fa95a3550>, 11)) (B,(<graph.Node object at 0x700fa95a2cb0>, 8)) (C,(<graph.Node object at 0x700fa95a35e0>, 8)) (C,(<graph.Node object at 0x700fa95a3430>, 7)) (C,(<graph.Node object at 0x700fa95a2a40>, 4)) (C,(<graph.Node object at 0x700fa95a30a0>, 2)) (D,(<graph.Node object at 0x700fa95a2cb0>, 7)) (D,(<graph.Node object at 0x700fa95a3d00>, 9)) (D,(<graph.Node object at 0x700fa95a2a40>, 14)) (E,(<graph.Node object at 0x700fa95a3430>, 9)) (E,(<graph.Node object at 0x700fa95a2a40>, 10)) (F,(<graph.Node object at 0x700fa95a3430>, 14)) (F,(<graph.Node object at 0x700fa95a3d00>, 10)) (F,(<graph.Node object at 0x700fa95a2cb0>, 4)) (F,(<graph.Node object at 0x700fa95a3dc0>, 2)) (G,(<graph.Node object at 0x700fa95a2a40>, 2)) (G,(<graph.Node object at 0x700fa95a3550>, 1)) (G,(<graph.Node object at 0x700fa95a30a0>, 6)) (H,(<graph.Node object at 0x700fa95a2fe0>, 8)) (H,(<graph.Node object at 0x700fa95a35e0>, 11)) (H,(<graph.Node object at 0x700fa95a3dc0>, 1)) (H,(<graph.Node object at 0x700fa95a30a0>, 7)) (I,(<graph.Node object at 0x700fa95a2cb0>, 2)) (I,(<graph.Node object at 0x700fa95a3dc0>, 6)) (I,(<graph.Node object at 0x700fa95a3550>, 7)) \n",
      "\n"
     ]
    }
   ],
   "source": [
    "print(G)"
   ]
  },
  {
   "cell_type": "markdown",
   "id": "10941ad1",
   "metadata": {},
   "source": [
    "This is what we had in the lectures as the slow implementation of Prim's Algorithm"
   ]
  },
  {
   "cell_type": "code",
   "execution_count": 24,
   "id": "c75594c0",
   "metadata": {},
   "outputs": [],
   "source": [
    "# G is graph\n",
    "# s is the node to start\n",
    "\n",
    "def slowPrim(G, s):\n",
    "    \n",
    "    # first, find the lightest edge leaving s\n",
    "    bestWt = np.inf\n",
    "    bestu = None\n",
    "    \n",
    "    for u,wt in s.getOutNeighborsWithWeights():\n",
    "        \n",
    "        if wt < bestWt:\n",
    "            bestWt = wt\n",
    "            bestu = u\n",
    "    \n",
    "    MST = [ (s, bestu) ]\n",
    "    verticesVisited = [s,bestu]\n",
    "    \n",
    "    while len(verticesVisited) < len(G.vertices): # danger! this will loop forever if the graph isn't connected...\n",
    "        \n",
    "        # find the lightest edge (x,v) so that x has been visited and v hasn't.\n",
    "        bestWt = np.inf\n",
    "        bestv = None\n",
    "        bestx = None\n",
    "        \n",
    "        for x in verticesVisited:\n",
    "            for v,wt in x.getOutNeighborsWithWeights():\n",
    "                \n",
    "                if v in verticesVisited:\n",
    "                    continue\n",
    "                \n",
    "                if wt < bestWt:\n",
    "                    bestWt = wt\n",
    "                    bestv = v\n",
    "                    bestx = x\n",
    "                    \n",
    "        MST.append((bestx,bestv))\n",
    "        verticesVisited.append(bestv)\n",
    "    \n",
    "    return MST"
   ]
  },
  {
   "cell_type": "code",
   "execution_count": 25,
   "id": "f6ff20d2",
   "metadata": {},
   "outputs": [
    {
     "name": "stdout",
     "output_type": "stream",
     "text": [
      "A B\n",
      "A H\n",
      "H G\n",
      "G F\n",
      "F C\n",
      "C I\n",
      "C D\n",
      "D E\n"
     ]
    }
   ],
   "source": [
    "T = slowPrim(G, G.vertices[0])\n",
    "\n",
    "for x,y in T:\n",
    "    print(x,y)"
   ]
  },
  {
   "cell_type": "markdown",
   "id": "3f2b31e2",
   "metadata": {},
   "source": [
    "Okay, it seems to be working fine, but as we discussed, will be quite slow. Let us see if we can work on the faster version of the code as:"
   ]
  },
  {
   "cell_type": "markdown",
   "id": "42212e3d",
   "metadata": {},
   "source": [
    "### <font color='red'> Activity 2: In lights of Prim's Algorithm above, write an efficient implementation based on our discussions in the Seminar/Lecture. </font>"
   ]
  },
  {
   "cell_type": "code",
   "execution_count": 26,
   "id": "9f189def",
   "metadata": {},
   "outputs": [
    {
     "name": "stdout",
     "output_type": "stream",
     "text": [
      "Graph with:\n",
      "\t Vertices:\n",
      "\tA,B,C,D,E,F,G,H,I,\n",
      "\t Edges:\n",
      "\t(A,(<graph.Node object at 0x700fa95a35e0>, 4)) (A,(<graph.Node object at 0x700fa95a3550>, 8)) (A,(<graph.Node object at 0x700fa95a35e0>, 4)) (A,(<graph.Node object at 0x700fa95a3550>, 8)) (B,(<graph.Node object at 0x700fa95a2fe0>, 4)) (B,(<graph.Node object at 0x700fa95a3550>, 11)) (B,(<graph.Node object at 0x700fa95a2cb0>, 8)) (B,(<graph.Node object at 0x700fa95a2fe0>, 4)) (B,(<graph.Node object at 0x700fa95a3550>, 11)) (B,(<graph.Node object at 0x700fa95a2cb0>, 8)) (C,(<graph.Node object at 0x700fa95a35e0>, 8)) (C,(<graph.Node object at 0x700fa95a3430>, 7)) (C,(<graph.Node object at 0x700fa95a2a40>, 4)) (C,(<graph.Node object at 0x700fa95a30a0>, 2)) (C,(<graph.Node object at 0x700fa95a35e0>, 8)) (C,(<graph.Node object at 0x700fa95a3430>, 7)) (C,(<graph.Node object at 0x700fa95a2a40>, 4)) (C,(<graph.Node object at 0x700fa95a30a0>, 2)) (D,(<graph.Node object at 0x700fa95a2cb0>, 7)) (D,(<graph.Node object at 0x700fa95a3d00>, 9)) (D,(<graph.Node object at 0x700fa95a2a40>, 14)) (D,(<graph.Node object at 0x700fa95a2cb0>, 7)) (D,(<graph.Node object at 0x700fa95a3d00>, 9)) (D,(<graph.Node object at 0x700fa95a2a40>, 14)) (E,(<graph.Node object at 0x700fa95a3430>, 9)) (E,(<graph.Node object at 0x700fa95a2a40>, 10)) (E,(<graph.Node object at 0x700fa95a3430>, 9)) (E,(<graph.Node object at 0x700fa95a2a40>, 10)) (F,(<graph.Node object at 0x700fa95a3430>, 14)) (F,(<graph.Node object at 0x700fa95a3d00>, 10)) (F,(<graph.Node object at 0x700fa95a2cb0>, 4)) (F,(<graph.Node object at 0x700fa95a3dc0>, 2)) (F,(<graph.Node object at 0x700fa95a3430>, 14)) (F,(<graph.Node object at 0x700fa95a3d00>, 10)) (F,(<graph.Node object at 0x700fa95a2cb0>, 4)) (F,(<graph.Node object at 0x700fa95a3dc0>, 2)) (G,(<graph.Node object at 0x700fa95a2a40>, 2)) (G,(<graph.Node object at 0x700fa95a3550>, 1)) (G,(<graph.Node object at 0x700fa95a30a0>, 6)) (G,(<graph.Node object at 0x700fa95a2a40>, 2)) (G,(<graph.Node object at 0x700fa95a3550>, 1)) (G,(<graph.Node object at 0x700fa95a30a0>, 6)) (H,(<graph.Node object at 0x700fa95a2fe0>, 8)) (H,(<graph.Node object at 0x700fa95a35e0>, 11)) (H,(<graph.Node object at 0x700fa95a3dc0>, 1)) (H,(<graph.Node object at 0x700fa95a30a0>, 7)) (H,(<graph.Node object at 0x700fa95a2fe0>, 8)) (H,(<graph.Node object at 0x700fa95a35e0>, 11)) (H,(<graph.Node object at 0x700fa95a3dc0>, 1)) (H,(<graph.Node object at 0x700fa95a30a0>, 7)) (I,(<graph.Node object at 0x700fa95a2cb0>, 2)) (I,(<graph.Node object at 0x700fa95a3dc0>, 6)) (I,(<graph.Node object at 0x700fa95a3550>, 7)) (I,(<graph.Node object at 0x700fa95a2cb0>, 2)) (I,(<graph.Node object at 0x700fa95a3dc0>, 6)) (I,(<graph.Node object at 0x700fa95a3550>, 7)) \n",
      "\n"
     ]
    }
   ],
   "source": [
    "V = G.vertices\n",
    "\n",
    "#0, 1, 2, 3, 4, 5, 6, 7, 8\n",
    "#A, B, C, D, E, F, G, H, I\n",
    "\n",
    "G.addBiEdge( V[0], V[1], 4)\n",
    "\n",
    "G.addBiEdge( V[0], V[7] , 8)\n",
    "\n",
    "G.addBiEdge( V[1], V[7], 11)\n",
    "\n",
    "G.addBiEdge( V[1], V[2], 8)\n",
    "\n",
    "G.addBiEdge( V[2], V[3], 7)\n",
    "\n",
    "G.addBiEdge( V[3], V[4], 9)\n",
    "\n",
    "G.addBiEdge( V[3], V[5], 14 )\n",
    "\n",
    "G.addBiEdge( V[4], V[5], 10 )\n",
    "\n",
    "G.addBiEdge( V[2], V[5], 4 )\n",
    "\n",
    "G.addBiEdge( V[2], V[8], 2 )\n",
    "\n",
    "G.addBiEdge( V[5], V[6], 2 )\n",
    "\n",
    "G.addBiEdge( V[6], V[7], 1 )\n",
    "\n",
    "G.addBiEdge( V[6], V[8], 6 )\n",
    "\n",
    "G.addBiEdge( V[7], V[8], 7 )\n",
    "print(G)"
   ]
  },
  {
   "cell_type": "code",
   "execution_count": 27,
   "id": "d824dead",
   "metadata": {},
   "outputs": [],
   "source": [
    "# This is heavily based off of the dijkstra provided in week 5\n",
    "def prim(G, w):\n",
    "    # This counts what step we are up to in the path\n",
    "    count = 0\n",
    "    # Set all to infinite since they are unknown\n",
    "    for x in G.vertices:\n",
    "        x.estD = math.inf\n",
    "\n",
    "    # Set our inital as 0 so it is grabbed first\n",
    "    w.estD = 0\n",
    "    # List stored of all nodes that have not been 'activated'\n",
    "    unActivated = G.vertices[:] \n",
    "    # Nodes we visted and activated\n",
    "    activated = []\n",
    "    # We run this untill we are out of unactivated nodes\n",
    "    while len(unActivated) > 0:\n",
    "        # Set our active node to none and reset min distance\n",
    "        u = None\n",
    "        minD = math.inf\n",
    "        # 'Activate' vertex with the smallest key by finding it in our unActivated list\n",
    "        for x in unActivated:\n",
    "            if x.estD < minD:\n",
    "                minD = x.estD\n",
    "                u = x\n",
    "        # If u is empty then we end the process\n",
    "        if u == None:\n",
    "            return\n",
    "        \n",
    "        # For each of u's neighbors v:\n",
    "        for v, wt in u.getOutNeighborsWithWeights():\n",
    "\n",
    "            if v in activated:\n",
    "                continue\n",
    "            # if K[v] is smaller\n",
    "            if u.estD + wt < v.estD:\n",
    "                # update K[v]\n",
    "                v.estD = u.estD + wt\n",
    "        # Count out step iteration\n",
    "        count = count+1\n",
    "        # Remove from unactivated and add to activated\n",
    "        unActivated.remove(u)\n",
    "        activated.append(\"Step: {}| Location: {}\".format(count,u.value))\n",
    "    return activated\n"
   ]
  },
  {
   "cell_type": "code",
   "execution_count": 28,
   "id": "92d630fd",
   "metadata": {},
   "outputs": [
    {
     "name": "stdout",
     "output_type": "stream",
     "text": [
      "Step: 1| Location: A\n",
      "Step: 2| Location: B\n",
      "Step: 3| Location: H\n",
      "Step: 4| Location: G\n",
      "Step: 5| Location: F\n",
      "Step: 6| Location: C\n",
      "Step: 7| Location: I\n",
      "Step: 8| Location: D\n",
      "Step: 9| Location: E\n"
     ]
    }
   ],
   "source": [
    "T = prim(G, G.vertices[0])\n",
    "for x in (range(len(T))):\n",
    "    print(T[x])"
   ]
  },
  {
   "cell_type": "markdown",
   "id": "cc0f5215",
   "metadata": {},
   "source": [
    "***"
   ]
  }
 ],
 "metadata": {
  "kernelspec": {
   "display_name": "Python 3 (ipykernel)",
   "language": "python",
   "name": "python3"
  },
  "language_info": {
   "codemirror_mode": {
    "name": "ipython",
    "version": 3
   },
   "file_extension": ".py",
   "mimetype": "text/x-python",
   "name": "python",
   "nbconvert_exporter": "python",
   "pygments_lexer": "ipython3",
   "version": "3.10.12"
  }
 },
 "nbformat": 4,
 "nbformat_minor": 5
}
