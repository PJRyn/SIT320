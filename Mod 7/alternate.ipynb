{
 "cells": [
  {
   "cell_type": "code",
   "execution_count": null,
   "metadata": {},
   "outputs": [],
   "source": []
  },
  {
   "cell_type": "code",
   "execution_count": null,
   "metadata": {},
   "outputs": [],
   "source": [
    "def primD(Graph, w):\n",
    "    # Set all vert to infinite\n",
    "    for v in Graph.vertices:\n",
    "        v.estD = math.inf\n",
    "    # Set our starting one to 0 since we start there\n",
    "    w.estD = 0\n",
    "    # List of reached and unreached\n",
    "    unreached = Graph.vertices[:]\n",
    "    reached = []\n",
    "    parents = [None for i in range(len(Graph.vertices))] \n",
    "\n",
    "\n",
    "    MST = []    \n",
    "    while len(unreached) > 0:\n",
    "        # find the u with the minimum estD in the dumbest way possible\n",
    "        u = None\n",
    "        minD = math.inf\n",
    "        for x in unreached:\n",
    "            if x.estD < minD:\n",
    "                minD = x.estD\n",
    "                u = x\n",
    "        print(u.value)\n",
    "        if u == None:\n",
    "            # then there is nothing more that I can reach\n",
    "            return\n",
    "        \n",
    "        # update u's neighbors\n",
    "        for v, wt in u.getOutNeighborsWithWeights():\n",
    "            # print(f\"u est: {u.estD}\")\n",
    "            # print()\n",
    "            if v in reached:\n",
    "                continue\n",
    "            newk = min(v.estD,(u.estD + wt))\n",
    "            print(f\"k:{newk}\")\n",
    "            if u.estD + wt < v.estD:\n",
    "                v.estD = u.estD + wt\n",
    "                bestu = u.value\n",
    "                bestv = v.value\n",
    "                print(f\"{bestu},{bestv}\")\n",
    "                parents[Graph.vertices.index(v)] = Graph.vertices.index(u)\n",
    "                # print(f\"{u.estD},{v.estD}\")\n",
    "                #Adrian's solution: \n",
    "                # v.parent = u\n",
    "\n",
    "        MST.append((bestu,bestv))\n",
    "        unreached.remove(u)\n",
    "        reached.append(u)\n",
    "    return parents"
   ]
  },
  {
   "cell_type": "code",
   "execution_count": null,
   "metadata": {},
   "outputs": [],
   "source": [
    "def primA(Graph, w):\n",
    "    reached = []\n",
    "    # Set all vert to infinite\n",
    "    for x in Graph.vertices:\n",
    "        x.estD = math.inf\n",
    "    # Set our starting one to 0 since we start there\n",
    "    w.estD = 0\n",
    "    # List of reached and unreached\n",
    "    unreached = Graph.vertices[:]\n",
    "    MST = []\n",
    "    # Run untill all vert are reached\n",
    "    while len(unreached) > 0:\n",
    "        print(len(unreached))\n",
    "        u = None\n",
    "        k = math.inf\n",
    "        minD = math.inf\n",
    "        # Find smallest to 'activate' which will be 'u'\n",
    "        for x in unreached:\n",
    "            if x.estD < minD:\n",
    "                minD = x.estD\n",
    "                u = x\n",
    "        if u == None:\n",
    "            # then there is nothing more that I can reach\n",
    "            return        \n",
    "        #For each of u's neighbors\n",
    "        for value, weight in u.getOutNeighborsWithWeights():\n",
    "            if value in reached:\n",
    "                continue\n",
    "            print(f\"{value},{weight}\")\n",
    "            if k > (u.estD+weight):\n",
    "                k = weight\n",
    "                bestv = value\n",
    "                bestx = u\n",
    "        MST.append((bestx,bestv))\n",
    "        unreached.remove(u)\n",
    "        reached.append(u)\n",
    "        print(len(unreached))\n",
    "    \n",
    "    return MST"
   ]
  },
  {
   "cell_type": "code",
   "execution_count": null,
   "metadata": {},
   "outputs": [
    {
     "name": "stdout",
     "output_type": "stream",
     "text": [
      "A\n",
      "B\n",
      "H\n",
      "G\n",
      "F\n",
      "C\n",
      "I\n",
      "D\n",
      "E\n"
     ]
    }
   ],
   "source": [
    "\n",
    "\n",
    "for x in T:\n",
    "    print(x)"
   ]
  }
 ],
 "metadata": {
  "language_info": {
   "name": "python"
  }
 },
 "nbformat": 4,
 "nbformat_minor": 2
}
